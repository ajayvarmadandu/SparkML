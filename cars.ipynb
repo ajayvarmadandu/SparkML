{
  "nbformat": 4,
  "nbformat_minor": 0,
  "metadata": {
    "colab": {
      "name": "cars.ipynb",
      "provenance": [],
      "collapsed_sections": []
    },
    "kernelspec": {
      "name": "python3",
      "display_name": "Python 3"
    },
    "language_info": {
      "name": "python"
    }
  },
  "cells": [
    {
      "cell_type": "markdown",
      "source": [
        "\n",
        "\n",
        "# Regression - CAR SALES PREDUCTION\n",
        "```\n",
        "\n"
      ],
      "metadata": {
        "id": "vpSraiLSW5KA"
      }
    },
    {
      "cell_type": "code",
      "source": [
        "!pip install pyspark\n",
        "\n",
        "!apt-get install openjdk-8-jdk-headless -qq > /dev/null\n",
        "\n",
        "!wget -q https://dlcdn.apache.org/spark/spark-3.2.1/spark-3.2.1-bin-hadoop2.7.tgz\n",
        "\n",
        "!tar xf spark-3.2.1-bin-hadoop2.7.tgz\n",
        "\n",
        "!pip install -q findspark\n",
        "\n",
        "import os\n",
        "os.environ[\"JAVA_HOME\"] = \"/usr/lib/jvm/java-8-openjdk-amd64\"\n",
        "os.environ[\"SPARK_HOME\"] = \"/content/spark-3.2.1-bin-hadoop2.7\"\n",
        "\n",
        "import findspark\n",
        "\n",
        "findspark.init()\n",
        "\n",
        "import pyspark"
      ],
      "metadata": {
        "colab": {
          "base_uri": "https://localhost:8080/"
        },
        "id": "v8Hu8xXFW4Qu",
        "outputId": "73b11eb7-64ea-4c6d-baa0-156bea6eb33f"
      },
      "execution_count": 1,
      "outputs": [
        {
          "output_type": "stream",
          "name": "stdout",
          "text": [
            "Collecting pyspark\n",
            "  Downloading pyspark-3.2.1.tar.gz (281.4 MB)\n",
            "\u001b[K     |████████████████████████████████| 281.4 MB 24 kB/s \n",
            "\u001b[?25hCollecting py4j==0.10.9.3\n",
            "  Downloading py4j-0.10.9.3-py2.py3-none-any.whl (198 kB)\n",
            "\u001b[K     |████████████████████████████████| 198 kB 51.3 MB/s \n",
            "\u001b[?25hBuilding wheels for collected packages: pyspark\n",
            "  Building wheel for pyspark (setup.py) ... \u001b[?25l\u001b[?25hdone\n",
            "  Created wheel for pyspark: filename=pyspark-3.2.1-py2.py3-none-any.whl size=281853642 sha256=b9c1da776d2f17ee03f9705dea091fef6fd63fe106535fdf047b7433643efbde\n",
            "  Stored in directory: /root/.cache/pip/wheels/9f/f5/07/7cd8017084dce4e93e84e92efd1e1d5334db05f2e83bcef74f\n",
            "Successfully built pyspark\n",
            "Installing collected packages: py4j, pyspark\n",
            "Successfully installed py4j-0.10.9.3 pyspark-3.2.1\n"
          ]
        }
      ]
    },
    {
      "cell_type": "code",
      "source": [
        "### Initialize the spark\n",
        "from pyspark.sql import SparkSession\n",
        "spark = SparkSession.builder.getOrCreate()"
      ],
      "metadata": {
        "id": "-H2yVd6LXWKD"
      },
      "execution_count": 2,
      "outputs": []
    },
    {
      "cell_type": "code",
      "source": [
        "import pyspark.ml as ml"
      ],
      "metadata": {
        "id": "h2ZoBU5oXWpX"
      },
      "execution_count": 3,
      "outputs": []
    },
    {
      "cell_type": "code",
      "source": [
        "from pyspark.sql import SparkSession\n",
        "from pyspark.sql.types import *\n",
        "from pyspark.sql.functions import *\n",
        "spark = SparkSession.builder.appName(\"app_analytics\").getOrCreate()\n",
        "spark"
      ],
      "metadata": {
        "colab": {
          "base_uri": "https://localhost:8080/",
          "height": 219
        },
        "id": "tP0DY8mbbLkh",
        "outputId": "72879cc9-5708-458a-a2c8-45f5073b7961"
      },
      "execution_count": 4,
      "outputs": [
        {
          "output_type": "execute_result",
          "data": {
            "text/plain": [
              "<pyspark.sql.session.SparkSession at 0x7f7de4914590>"
            ],
            "text/html": [
              "\n",
              "            <div>\n",
              "                <p><b>SparkSession - in-memory</b></p>\n",
              "                \n",
              "        <div>\n",
              "            <p><b>SparkContext</b></p>\n",
              "\n",
              "            <p><a href=\"http://c303c717a032:4040\">Spark UI</a></p>\n",
              "\n",
              "            <dl>\n",
              "              <dt>Version</dt>\n",
              "                <dd><code>v3.2.1</code></dd>\n",
              "              <dt>Master</dt>\n",
              "                <dd><code>local[*]</code></dd>\n",
              "              <dt>AppName</dt>\n",
              "                <dd><code>pyspark-shell</code></dd>\n",
              "            </dl>\n",
              "        </div>\n",
              "        \n",
              "            </div>\n",
              "        "
            ]
          },
          "metadata": {},
          "execution_count": 4
        }
      ]
    },
    {
      "cell_type": "code",
      "source": [
        ""
      ],
      "metadata": {
        "id": "s9F6-ufWbLnG"
      },
      "execution_count": 4,
      "outputs": []
    },
    {
      "cell_type": "code",
      "source": [
        "# Load the dataset\n",
        "car_sales  = spark.read.csv('Car_sales.csv',inferSchema=True,header=True)"
      ],
      "metadata": {
        "id": "wgc5AgH-XWrn"
      },
      "execution_count": 6,
      "outputs": []
    },
    {
      "cell_type": "code",
      "source": [
        "car_sales.show()"
      ],
      "metadata": {
        "colab": {
          "base_uri": "https://localhost:8080/"
        },
        "id": "JGKcGxc8XWuS",
        "outputId": "55a2477d-797a-4173-d603-39df4ec6392e"
      },
      "execution_count": 7,
      "outputs": [
        {
          "output_type": "stream",
          "name": "stdout",
          "text": [
            "+------------+-----------+------------------+----------------------+------------+------------------+-----------+----------+---------+-----+------+-----------+-------------+---------------+-------------+-----------------+\n",
            "|Manufacturer|      Model|Sales_in_thousands|four_year_resale_value|Vehicle_type|Price_in_thousands|Engine_size|Horsepower|Wheelbase|Width|Length|Curb_weight|Fuel_capacity|Fuel_efficiency|Latest_Launch|Power_perf_factor|\n",
            "+------------+-----------+------------------+----------------------+------------+------------------+-----------+----------+---------+-----+------+-----------+-------------+---------------+-------------+-----------------+\n",
            "|       Acura|    Integra|            16.919|                 16.36|   Passenger|              21.5|        1.8|       140|    101.2| 67.3| 172.4|      2.639|         13.2|             28|     2/2/2012|      58.28014952|\n",
            "|       Acura|         TL|            39.384|                19.875|   Passenger|              28.4|        3.2|       225|    108.1| 70.3| 192.9|      3.517|         17.2|             25|     6/3/2011|      91.37077766|\n",
            "|       Acura|         CL|            14.114|                18.225|   Passenger|              null|        3.2|       225|    106.9| 70.6| 192.0|       3.47|         17.2|             26|     1/4/2012|             null|\n",
            "|       Acura|         RL|             8.588|                29.725|   Passenger|              42.0|        3.5|       210|    114.6| 71.4| 196.6|       3.85|         18.0|             22|    3/10/2011|      91.38977933|\n",
            "|        Audi|         A4|            20.397|                22.255|   Passenger|             23.99|        1.8|       150|    102.6| 68.2| 178.0|      2.998|         16.4|             27|    10/8/2011|       62.7776392|\n",
            "|        Audi|         A6|             18.78|                23.555|   Passenger|             33.95|        2.8|       200|    108.7| 76.1| 192.0|      3.561|         18.5|             22|     8/9/2011|      84.56510502|\n",
            "|        Audi|         A8|              1.38|                  39.0|   Passenger|              62.0|        4.2|       310|    113.0| 74.0| 198.2|      3.902|         23.7|             21|    2/27/2012|      134.6568582|\n",
            "|         BMW|       323i|            19.747|                  null|   Passenger|             26.99|        2.5|       170|    107.3| 68.4| 176.0|      3.179|         16.6|             26|    6/28/2011|      71.19120671|\n",
            "|         BMW|       328i|             9.231|                28.675|   Passenger|              33.4|        2.8|       193|    107.3| 68.5| 176.0|      3.197|         16.6|             24|    1/29/2012|      81.87706856|\n",
            "|         BMW|       528i|            17.527|                36.125|   Passenger|              38.9|        2.8|       193|    111.4| 70.9| 188.0|      3.472|         18.5|             25|     4/4/2011|       83.9987238|\n",
            "|       Buick|    Century|            91.561|                12.475|   Passenger|            21.975|        3.1|       175|    109.0| 72.7| 194.6|      3.368|         17.5|             25|    11/2/2011|      71.18145132|\n",
            "|       Buick|      Regal|             39.35|                 13.74|   Passenger|              25.3|        3.8|       240|    109.0| 72.7| 196.2|      3.543|         17.5|             23|     9/3/2011|      95.63670253|\n",
            "|       Buick|Park Avenue|            27.851|                 20.19|   Passenger|            31.965|        3.8|       205|    113.8| 74.7| 206.8|      3.778|         18.5|             24|    3/23/2012|      85.82840825|\n",
            "|       Buick|    LeSabre|            83.257|                 13.36|   Passenger|            27.885|        3.8|       205|    112.2| 73.5| 200.0|      3.591|         17.5|             25|    7/23/2011|      84.25452581|\n",
            "|    Cadillac|    DeVille|            63.729|                22.525|   Passenger|            39.895|        4.6|       275|    115.3| 74.5| 207.2|      3.978|         18.5|             22|    2/23/2012|      113.8545976|\n",
            "|    Cadillac|    Seville|            15.943|                  27.1|   Passenger|            44.475|        4.6|       275|    112.2| 75.0| 201.0|       null|         18.5|             22|    4/29/2011|      115.6213578|\n",
            "|    Cadillac|   Eldorado|             6.536|                25.725|   Passenger|            39.665|        4.6|       275|    108.0| 75.5| 200.6|      3.843|         19.0|             22|   11/27/2011|      113.7658739|\n",
            "|    Cadillac|     Catera|            11.185|                18.225|   Passenger|             31.01|        3.0|       200|    107.4| 70.3| 194.8|       3.77|         18.0|             22|    9/28/2011|      83.48309358|\n",
            "|    Cadillac|   Escalade|            14.785|                  null|         Car|            46.225|        5.7|       255|    117.5| 77.0| 201.2|      5.572|         30.0|             15|    4/17/2012|      109.5091165|\n",
            "|   Chevrolet|   Cavalier|           145.519|                  9.25|   Passenger|             13.26|        2.2|       115|    104.1| 67.9| 180.9|      2.676|         14.3|             27|    8/17/2011|      46.36334747|\n",
            "+------------+-----------+------------------+----------------------+------------+------------------+-----------+----------+---------+-----+------+-----------+-------------+---------------+-------------+-----------------+\n",
            "only showing top 20 rows\n",
            "\n"
          ]
        }
      ]
    },
    {
      "cell_type": "code",
      "source": [
        "car_sales.createOrReplaceTempView(\"car_sales\")"
      ],
      "metadata": {
        "id": "NZms271wbhAS"
      },
      "execution_count": 8,
      "outputs": []
    },
    {
      "cell_type": "code",
      "source": [
        "spark.sql(\"\"\"select distinct Vehicle_type from car_sales\"\"\" ).show()"
      ],
      "metadata": {
        "colab": {
          "base_uri": "https://localhost:8080/"
        },
        "id": "MbdGTQndXspZ",
        "outputId": "4bca393d-398b-445d-e505-91d3e329f343"
      },
      "execution_count": 9,
      "outputs": [
        {
          "output_type": "stream",
          "name": "stdout",
          "text": [
            "+------------+\n",
            "|Vehicle_type|\n",
            "+------------+\n",
            "|         Car|\n",
            "|   Passenger|\n",
            "+------------+\n",
            "\n"
          ]
        }
      ]
    },
    {
      "cell_type": "code",
      "source": [
        "spark.sql(\"\"\"select distinct Model from car_sales\"\"\" ).show()"
      ],
      "metadata": {
        "colab": {
          "base_uri": "https://localhost:8080/"
        },
        "id": "ZXOASeNIXsrv",
        "outputId": "9c321e36-e279-4dd5-ef4b-3b3c8cb2cff0"
      },
      "execution_count": 10,
      "outputs": [
        {
          "output_type": "stream",
          "name": "stdout",
          "text": [
            "+-------------+\n",
            "|        Model|\n",
            "+-------------+\n",
            "|       Cirrus|\n",
            "|      Contour|\n",
            "|        RX300|\n",
            "|     Villager|\n",
            "|           SC|\n",
            "|      Cutlass|\n",
            "|           SL|\n",
            "|        Camry|\n",
            "|      Seville|\n",
            "|    Ram Wagon|\n",
            "|      Outback|\n",
            "|         300M|\n",
            "|           A6|\n",
            "|Grand Marquis|\n",
            "|         Golf|\n",
            "|     Forester|\n",
            "|       Sentra|\n",
            "|     Cherokee|\n",
            "|        Focus|\n",
            "|     Wrangler|\n",
            "+-------------+\n",
            "only showing top 20 rows\n",
            "\n"
          ]
        }
      ]
    },
    {
      "cell_type": "code",
      "source": [
        "spark.sql(\"\"\"select distinct Manufacturer from car_sales\"\"\" ).show(50)"
      ],
      "metadata": {
        "colab": {
          "base_uri": "https://localhost:8080/"
        },
        "id": "0kNVN3zxXst4",
        "outputId": "f79eacb6-3845-4732-adc8-0f65ee1a25a7"
      },
      "execution_count": 11,
      "outputs": [
        {
          "output_type": "stream",
          "name": "stdout",
          "text": [
            "+------------+\n",
            "|Manufacturer|\n",
            "+------------+\n",
            "|  Volkswagen|\n",
            "|  Oldsmobile|\n",
            "|    Infiniti|\n",
            "|       Lexus|\n",
            "|      Jaguar|\n",
            "|      Saturn|\n",
            "|        Jeep|\n",
            "|  Mitsubishi|\n",
            "|   Chevrolet|\n",
            "|       Volvo|\n",
            "|     Hyundai|\n",
            "|        Saab|\n",
            "|       Honda|\n",
            "|        Audi|\n",
            "|    Cadillac|\n",
            "|    Plymouth|\n",
            "|     Pontiac|\n",
            "|     Mercury|\n",
            "|    Chrysler|\n",
            "|     Lincoln|\n",
            "|         BMW|\n",
            "|       Acura|\n",
            "|  Mercedes-B|\n",
            "|       Buick|\n",
            "|     Porsche|\n",
            "|      Toyota|\n",
            "|       Dodge|\n",
            "|      Nissan|\n",
            "|        Ford|\n",
            "|      Subaru|\n",
            "+------------+\n",
            "\n"
          ]
        }
      ]
    },
    {
      "cell_type": "code",
      "source": [
        "car_sales.count()"
      ],
      "metadata": {
        "colab": {
          "base_uri": "https://localhost:8080/"
        },
        "id": "zenjbH59XWwu",
        "outputId": "8e943a47-ba68-4d0a-bc65-87ee73c3d432"
      },
      "execution_count": 12,
      "outputs": [
        {
          "output_type": "execute_result",
          "data": {
            "text/plain": [
              "157"
            ]
          },
          "metadata": {},
          "execution_count": 12
        }
      ]
    },
    {
      "cell_type": "code",
      "source": [
        "car_sales.describe().show()"
      ],
      "metadata": {
        "colab": {
          "base_uri": "https://localhost:8080/"
        },
        "id": "cvoz9AZDXWyn",
        "outputId": "ea5546ac-ec10-46fb-ca69-66bb0b51711d"
      },
      "execution_count": 13,
      "outputs": [
        {
          "output_type": "stream",
          "name": "stdout",
          "text": [
            "+-------+------------+------+------------------+----------------------+------------+------------------+------------------+------------------+------------------+------------------+------------------+------------------+------------------+------------------+-------------+------------------+\n",
            "|summary|Manufacturer| Model|Sales_in_thousands|four_year_resale_value|Vehicle_type|Price_in_thousands|       Engine_size|        Horsepower|         Wheelbase|             Width|            Length|       Curb_weight|     Fuel_capacity|   Fuel_efficiency|Latest_Launch| Power_perf_factor|\n",
            "+-------+------------+------+------------------+----------------------+------------+------------------+------------------+------------------+------------------+------------------+------------------+------------------+------------------+------------------+-------------+------------------+\n",
            "|  count|         157|   157|               157|                   121|         157|               155|               156|               156|               156|               156|               156|               155|               156|               154|          157|               155|\n",
            "|   mean|        null|  null| 52.99807643312102|    18.072975206611574|        null| 27.39075483870966| 3.060897435897434|185.94871794871796|107.48717948717949| 71.14999999999996|187.34358974358977| 3.378025806451613|17.951923076923084|23.844155844155843|         null|  77.0435912007742|\n",
            "| stddev|        null|  null| 68.02942199750512|    11.453384099225003|        null|14.351653189238544|1.0446529732758285| 56.70032085837357| 7.641303029809967|3.4518718624593676|13.431754284516813|0.6305016344292964|3.8879212648646306| 4.282705561885177|         null|25.142664099182795|\n",
            "|    min|       Acura| 3-Sep|              0.11|                  5.16|         Car|             9.235|               1.0|                55|              92.6|              62.6|             149.4|             1.895|              10.3|                15|    1/14/2012|       23.27627233|\n",
            "|    max|       Volvo|Xterra|           540.561|                 67.55|   Passenger|              85.5|               8.0|               450|             138.7|              79.9|             224.5|             5.572|              32.0|                45|     9/3/2011|        188.144323|\n",
            "+-------+------------+------+------------------+----------------------+------------+------------------+------------------+------------------+------------------+------------------+------------------+------------------+------------------+------------------+-------------+------------------+\n",
            "\n"
          ]
        }
      ]
    },
    {
      "cell_type": "code",
      "source": [
        ""
      ],
      "metadata": {
        "id": "L45kdKxOcmzb"
      },
      "execution_count": 13,
      "outputs": []
    },
    {
      "cell_type": "code",
      "source": [
        ""
      ],
      "metadata": {
        "id": "JdyDyvfShH5H"
      },
      "execution_count": 13,
      "outputs": []
    },
    {
      "cell_type": "code",
      "source": [
        "import pyspark.sql.functions as F\n",
        "def count_missings(spark_df,sort=True):\n",
        "    \"\"\"\n",
        "    Counts number of nulls and nans in each column\n",
        "    \"\"\"\n",
        "    df = spark_df.select([F.count(F.when(F.isnan(c) | F.isnull(c), c)).alias(c) for (c,c_type) in spark_df.dtypes if c_type not in ('timestamp', 'string', 'date')]).toPandas()\n",
        "\n",
        "    if len(df) == 0:\n",
        "        print(\"There are no any missing values!\")\n",
        "        return None\n",
        "\n",
        "    if sort:\n",
        "        return df.rename(index={0: 'count'}).T.sort_values(\"count\",ascending=False)\n",
        "\n",
        "    return df"
      ],
      "metadata": {
        "id": "SZKzDoeyhH7m"
      },
      "execution_count": 14,
      "outputs": []
    },
    {
      "cell_type": "code",
      "source": [
        "count_missings(car_sales)"
      ],
      "metadata": {
        "colab": {
          "base_uri": "https://localhost:8080/",
          "height": 426
        },
        "id": "1Y3Y7wN5hH90",
        "outputId": "3f07c407-0d9e-4835-d193-cc5b889b23ca"
      },
      "execution_count": 15,
      "outputs": [
        {
          "output_type": "execute_result",
          "data": {
            "text/plain": [
              "                        count\n",
              "four_year_resale_value     36\n",
              "Fuel_efficiency             3\n",
              "Price_in_thousands          2\n",
              "Curb_weight                 2\n",
              "Power_perf_factor           2\n",
              "Engine_size                 1\n",
              "Horsepower                  1\n",
              "Wheelbase                   1\n",
              "Width                       1\n",
              "Length                      1\n",
              "Fuel_capacity               1\n",
              "Sales_in_thousands          0"
            ],
            "text/html": [
              "\n",
              "  <div id=\"df-1a46e881-7df4-4332-9426-3ceacdecded3\">\n",
              "    <div class=\"colab-df-container\">\n",
              "      <div>\n",
              "<style scoped>\n",
              "    .dataframe tbody tr th:only-of-type {\n",
              "        vertical-align: middle;\n",
              "    }\n",
              "\n",
              "    .dataframe tbody tr th {\n",
              "        vertical-align: top;\n",
              "    }\n",
              "\n",
              "    .dataframe thead th {\n",
              "        text-align: right;\n",
              "    }\n",
              "</style>\n",
              "<table border=\"1\" class=\"dataframe\">\n",
              "  <thead>\n",
              "    <tr style=\"text-align: right;\">\n",
              "      <th></th>\n",
              "      <th>count</th>\n",
              "    </tr>\n",
              "  </thead>\n",
              "  <tbody>\n",
              "    <tr>\n",
              "      <th>four_year_resale_value</th>\n",
              "      <td>36</td>\n",
              "    </tr>\n",
              "    <tr>\n",
              "      <th>Fuel_efficiency</th>\n",
              "      <td>3</td>\n",
              "    </tr>\n",
              "    <tr>\n",
              "      <th>Price_in_thousands</th>\n",
              "      <td>2</td>\n",
              "    </tr>\n",
              "    <tr>\n",
              "      <th>Curb_weight</th>\n",
              "      <td>2</td>\n",
              "    </tr>\n",
              "    <tr>\n",
              "      <th>Power_perf_factor</th>\n",
              "      <td>2</td>\n",
              "    </tr>\n",
              "    <tr>\n",
              "      <th>Engine_size</th>\n",
              "      <td>1</td>\n",
              "    </tr>\n",
              "    <tr>\n",
              "      <th>Horsepower</th>\n",
              "      <td>1</td>\n",
              "    </tr>\n",
              "    <tr>\n",
              "      <th>Wheelbase</th>\n",
              "      <td>1</td>\n",
              "    </tr>\n",
              "    <tr>\n",
              "      <th>Width</th>\n",
              "      <td>1</td>\n",
              "    </tr>\n",
              "    <tr>\n",
              "      <th>Length</th>\n",
              "      <td>1</td>\n",
              "    </tr>\n",
              "    <tr>\n",
              "      <th>Fuel_capacity</th>\n",
              "      <td>1</td>\n",
              "    </tr>\n",
              "    <tr>\n",
              "      <th>Sales_in_thousands</th>\n",
              "      <td>0</td>\n",
              "    </tr>\n",
              "  </tbody>\n",
              "</table>\n",
              "</div>\n",
              "      <button class=\"colab-df-convert\" onclick=\"convertToInteractive('df-1a46e881-7df4-4332-9426-3ceacdecded3')\"\n",
              "              title=\"Convert this dataframe to an interactive table.\"\n",
              "              style=\"display:none;\">\n",
              "        \n",
              "  <svg xmlns=\"http://www.w3.org/2000/svg\" height=\"24px\"viewBox=\"0 0 24 24\"\n",
              "       width=\"24px\">\n",
              "    <path d=\"M0 0h24v24H0V0z\" fill=\"none\"/>\n",
              "    <path d=\"M18.56 5.44l.94 2.06.94-2.06 2.06-.94-2.06-.94-.94-2.06-.94 2.06-2.06.94zm-11 1L8.5 8.5l.94-2.06 2.06-.94-2.06-.94L8.5 2.5l-.94 2.06-2.06.94zm10 10l.94 2.06.94-2.06 2.06-.94-2.06-.94-.94-2.06-.94 2.06-2.06.94z\"/><path d=\"M17.41 7.96l-1.37-1.37c-.4-.4-.92-.59-1.43-.59-.52 0-1.04.2-1.43.59L10.3 9.45l-7.72 7.72c-.78.78-.78 2.05 0 2.83L4 21.41c.39.39.9.59 1.41.59.51 0 1.02-.2 1.41-.59l7.78-7.78 2.81-2.81c.8-.78.8-2.07 0-2.86zM5.41 20L4 18.59l7.72-7.72 1.47 1.35L5.41 20z\"/>\n",
              "  </svg>\n",
              "      </button>\n",
              "      \n",
              "  <style>\n",
              "    .colab-df-container {\n",
              "      display:flex;\n",
              "      flex-wrap:wrap;\n",
              "      gap: 12px;\n",
              "    }\n",
              "\n",
              "    .colab-df-convert {\n",
              "      background-color: #E8F0FE;\n",
              "      border: none;\n",
              "      border-radius: 50%;\n",
              "      cursor: pointer;\n",
              "      display: none;\n",
              "      fill: #1967D2;\n",
              "      height: 32px;\n",
              "      padding: 0 0 0 0;\n",
              "      width: 32px;\n",
              "    }\n",
              "\n",
              "    .colab-df-convert:hover {\n",
              "      background-color: #E2EBFA;\n",
              "      box-shadow: 0px 1px 2px rgba(60, 64, 67, 0.3), 0px 1px 3px 1px rgba(60, 64, 67, 0.15);\n",
              "      fill: #174EA6;\n",
              "    }\n",
              "\n",
              "    [theme=dark] .colab-df-convert {\n",
              "      background-color: #3B4455;\n",
              "      fill: #D2E3FC;\n",
              "    }\n",
              "\n",
              "    [theme=dark] .colab-df-convert:hover {\n",
              "      background-color: #434B5C;\n",
              "      box-shadow: 0px 1px 3px 1px rgba(0, 0, 0, 0.15);\n",
              "      filter: drop-shadow(0px 1px 2px rgba(0, 0, 0, 0.3));\n",
              "      fill: #FFFFFF;\n",
              "    }\n",
              "  </style>\n",
              "\n",
              "      <script>\n",
              "        const buttonEl =\n",
              "          document.querySelector('#df-1a46e881-7df4-4332-9426-3ceacdecded3 button.colab-df-convert');\n",
              "        buttonEl.style.display =\n",
              "          google.colab.kernel.accessAllowed ? 'block' : 'none';\n",
              "\n",
              "        async function convertToInteractive(key) {\n",
              "          const element = document.querySelector('#df-1a46e881-7df4-4332-9426-3ceacdecded3');\n",
              "          const dataTable =\n",
              "            await google.colab.kernel.invokeFunction('convertToInteractive',\n",
              "                                                     [key], {});\n",
              "          if (!dataTable) return;\n",
              "\n",
              "          const docLinkHtml = 'Like what you see? Visit the ' +\n",
              "            '<a target=\"_blank\" href=https://colab.research.google.com/notebooks/data_table.ipynb>data table notebook</a>'\n",
              "            + ' to learn more about interactive tables.';\n",
              "          element.innerHTML = '';\n",
              "          dataTable['output_type'] = 'display_data';\n",
              "          await google.colab.output.renderOutput(dataTable, element);\n",
              "          const docLink = document.createElement('div');\n",
              "          docLink.innerHTML = docLinkHtml;\n",
              "          element.appendChild(docLink);\n",
              "        }\n",
              "      </script>\n",
              "    </div>\n",
              "  </div>\n",
              "  "
            ]
          },
          "metadata": {},
          "execution_count": 15
        }
      ]
    },
    {
      "cell_type": "code",
      "source": [
        ""
      ],
      "metadata": {
        "id": "Zf_w99g4c0_j"
      },
      "execution_count": 15,
      "outputs": []
    },
    {
      "cell_type": "code",
      "source": [
        "car_sales.count() "
      ],
      "metadata": {
        "colab": {
          "base_uri": "https://localhost:8080/"
        },
        "id": "1u9zt9oAkf-g",
        "outputId": "53a1b39f-b5a2-4274-b8ad-9319fe502823"
      },
      "execution_count": 16,
      "outputs": [
        {
          "output_type": "execute_result",
          "data": {
            "text/plain": [
              "157"
            ]
          },
          "metadata": {},
          "execution_count": 16
        }
      ]
    },
    {
      "cell_type": "code",
      "source": [
        "car_sales.agg(avg('four_year_resale_value')).show()"
      ],
      "metadata": {
        "colab": {
          "base_uri": "https://localhost:8080/"
        },
        "id": "krb8Nti9kgA1",
        "outputId": "13e8396e-f8c9-4165-8f6d-6b49e30a01d8"
      },
      "execution_count": 17,
      "outputs": [
        {
          "output_type": "stream",
          "name": "stdout",
          "text": [
            "+---------------------------+\n",
            "|avg(four_year_resale_value)|\n",
            "+---------------------------+\n",
            "|         18.072975206611574|\n",
            "+---------------------------+\n",
            "\n"
          ]
        }
      ]
    },
    {
      "cell_type": "code",
      "source": [
        "avg('Price_in_thousands')"
      ],
      "metadata": {
        "colab": {
          "base_uri": "https://localhost:8080/"
        },
        "id": "omg7yJrQpxFX",
        "outputId": "4315ec2b-4281-4e4d-e8af-0dce9767be11"
      },
      "execution_count": 18,
      "outputs": [
        {
          "output_type": "execute_result",
          "data": {
            "text/plain": [
              "Column<'avg(Price_in_thousands)'>"
            ]
          },
          "metadata": {},
          "execution_count": 18
        }
      ]
    },
    {
      "cell_type": "markdown",
      "source": [
        ""
      ],
      "metadata": {
        "id": "PIuP3KCKq1Cc"
      }
    },
    {
      "cell_type": "code",
      "source": [
        "#car_sales.four_year_resale_value.na.fill('10').show()"
      ],
      "metadata": {
        "id": "n24JkEyoof4I"
      },
      "execution_count": 19,
      "outputs": []
    },
    {
      "cell_type": "code",
      "source": [
        "car_sales.agg(avg('four_year_resale_value')).show()\n"
      ],
      "metadata": {
        "colab": {
          "base_uri": "https://localhost:8080/"
        },
        "id": "4-l7-wZLkgDN",
        "outputId": "8d83d436-181b-44e3-991b-d29b4be102a6"
      },
      "execution_count": 20,
      "outputs": [
        {
          "output_type": "stream",
          "name": "stdout",
          "text": [
            "+---------------------------+\n",
            "|avg(four_year_resale_value)|\n",
            "+---------------------------+\n",
            "|         18.072975206611574|\n",
            "+---------------------------+\n",
            "\n"
          ]
        }
      ]
    },
    {
      "cell_type": "code",
      "source": [
        "final_df= car_sales.na.drop()"
      ],
      "metadata": {
        "id": "y_bQogfdoVXq"
      },
      "execution_count": 21,
      "outputs": []
    },
    {
      "cell_type": "code",
      "source": [
        "final_df.count()"
      ],
      "metadata": {
        "colab": {
          "base_uri": "https://localhost:8080/"
        },
        "id": "Teg_YrgDoVZs",
        "outputId": "a15754c3-0002-49cb-f397-21e51cc97775"
      },
      "execution_count": 22,
      "outputs": [
        {
          "output_type": "execute_result",
          "data": {
            "text/plain": [
              "117"
            ]
          },
          "metadata": {},
          "execution_count": 22
        }
      ]
    },
    {
      "cell_type": "code",
      "source": [
        "count_missings(final_df)"
      ],
      "metadata": {
        "colab": {
          "base_uri": "https://localhost:8080/",
          "height": 426
        },
        "id": "8yE0EOs5shS_",
        "outputId": "2edae548-d0af-40ae-f454-2fb12f4da209"
      },
      "execution_count": 23,
      "outputs": [
        {
          "output_type": "execute_result",
          "data": {
            "text/plain": [
              "                        count\n",
              "Sales_in_thousands          0\n",
              "four_year_resale_value      0\n",
              "Price_in_thousands          0\n",
              "Engine_size                 0\n",
              "Horsepower                  0\n",
              "Wheelbase                   0\n",
              "Width                       0\n",
              "Length                      0\n",
              "Curb_weight                 0\n",
              "Fuel_capacity               0\n",
              "Fuel_efficiency             0\n",
              "Power_perf_factor           0"
            ],
            "text/html": [
              "\n",
              "  <div id=\"df-50700402-d992-4b5a-8e7a-74fb9cf40118\">\n",
              "    <div class=\"colab-df-container\">\n",
              "      <div>\n",
              "<style scoped>\n",
              "    .dataframe tbody tr th:only-of-type {\n",
              "        vertical-align: middle;\n",
              "    }\n",
              "\n",
              "    .dataframe tbody tr th {\n",
              "        vertical-align: top;\n",
              "    }\n",
              "\n",
              "    .dataframe thead th {\n",
              "        text-align: right;\n",
              "    }\n",
              "</style>\n",
              "<table border=\"1\" class=\"dataframe\">\n",
              "  <thead>\n",
              "    <tr style=\"text-align: right;\">\n",
              "      <th></th>\n",
              "      <th>count</th>\n",
              "    </tr>\n",
              "  </thead>\n",
              "  <tbody>\n",
              "    <tr>\n",
              "      <th>Sales_in_thousands</th>\n",
              "      <td>0</td>\n",
              "    </tr>\n",
              "    <tr>\n",
              "      <th>four_year_resale_value</th>\n",
              "      <td>0</td>\n",
              "    </tr>\n",
              "    <tr>\n",
              "      <th>Price_in_thousands</th>\n",
              "      <td>0</td>\n",
              "    </tr>\n",
              "    <tr>\n",
              "      <th>Engine_size</th>\n",
              "      <td>0</td>\n",
              "    </tr>\n",
              "    <tr>\n",
              "      <th>Horsepower</th>\n",
              "      <td>0</td>\n",
              "    </tr>\n",
              "    <tr>\n",
              "      <th>Wheelbase</th>\n",
              "      <td>0</td>\n",
              "    </tr>\n",
              "    <tr>\n",
              "      <th>Width</th>\n",
              "      <td>0</td>\n",
              "    </tr>\n",
              "    <tr>\n",
              "      <th>Length</th>\n",
              "      <td>0</td>\n",
              "    </tr>\n",
              "    <tr>\n",
              "      <th>Curb_weight</th>\n",
              "      <td>0</td>\n",
              "    </tr>\n",
              "    <tr>\n",
              "      <th>Fuel_capacity</th>\n",
              "      <td>0</td>\n",
              "    </tr>\n",
              "    <tr>\n",
              "      <th>Fuel_efficiency</th>\n",
              "      <td>0</td>\n",
              "    </tr>\n",
              "    <tr>\n",
              "      <th>Power_perf_factor</th>\n",
              "      <td>0</td>\n",
              "    </tr>\n",
              "  </tbody>\n",
              "</table>\n",
              "</div>\n",
              "      <button class=\"colab-df-convert\" onclick=\"convertToInteractive('df-50700402-d992-4b5a-8e7a-74fb9cf40118')\"\n",
              "              title=\"Convert this dataframe to an interactive table.\"\n",
              "              style=\"display:none;\">\n",
              "        \n",
              "  <svg xmlns=\"http://www.w3.org/2000/svg\" height=\"24px\"viewBox=\"0 0 24 24\"\n",
              "       width=\"24px\">\n",
              "    <path d=\"M0 0h24v24H0V0z\" fill=\"none\"/>\n",
              "    <path d=\"M18.56 5.44l.94 2.06.94-2.06 2.06-.94-2.06-.94-.94-2.06-.94 2.06-2.06.94zm-11 1L8.5 8.5l.94-2.06 2.06-.94-2.06-.94L8.5 2.5l-.94 2.06-2.06.94zm10 10l.94 2.06.94-2.06 2.06-.94-2.06-.94-.94-2.06-.94 2.06-2.06.94z\"/><path d=\"M17.41 7.96l-1.37-1.37c-.4-.4-.92-.59-1.43-.59-.52 0-1.04.2-1.43.59L10.3 9.45l-7.72 7.72c-.78.78-.78 2.05 0 2.83L4 21.41c.39.39.9.59 1.41.59.51 0 1.02-.2 1.41-.59l7.78-7.78 2.81-2.81c.8-.78.8-2.07 0-2.86zM5.41 20L4 18.59l7.72-7.72 1.47 1.35L5.41 20z\"/>\n",
              "  </svg>\n",
              "      </button>\n",
              "      \n",
              "  <style>\n",
              "    .colab-df-container {\n",
              "      display:flex;\n",
              "      flex-wrap:wrap;\n",
              "      gap: 12px;\n",
              "    }\n",
              "\n",
              "    .colab-df-convert {\n",
              "      background-color: #E8F0FE;\n",
              "      border: none;\n",
              "      border-radius: 50%;\n",
              "      cursor: pointer;\n",
              "      display: none;\n",
              "      fill: #1967D2;\n",
              "      height: 32px;\n",
              "      padding: 0 0 0 0;\n",
              "      width: 32px;\n",
              "    }\n",
              "\n",
              "    .colab-df-convert:hover {\n",
              "      background-color: #E2EBFA;\n",
              "      box-shadow: 0px 1px 2px rgba(60, 64, 67, 0.3), 0px 1px 3px 1px rgba(60, 64, 67, 0.15);\n",
              "      fill: #174EA6;\n",
              "    }\n",
              "\n",
              "    [theme=dark] .colab-df-convert {\n",
              "      background-color: #3B4455;\n",
              "      fill: #D2E3FC;\n",
              "    }\n",
              "\n",
              "    [theme=dark] .colab-df-convert:hover {\n",
              "      background-color: #434B5C;\n",
              "      box-shadow: 0px 1px 3px 1px rgba(0, 0, 0, 0.15);\n",
              "      filter: drop-shadow(0px 1px 2px rgba(0, 0, 0, 0.3));\n",
              "      fill: #FFFFFF;\n",
              "    }\n",
              "  </style>\n",
              "\n",
              "      <script>\n",
              "        const buttonEl =\n",
              "          document.querySelector('#df-50700402-d992-4b5a-8e7a-74fb9cf40118 button.colab-df-convert');\n",
              "        buttonEl.style.display =\n",
              "          google.colab.kernel.accessAllowed ? 'block' : 'none';\n",
              "\n",
              "        async function convertToInteractive(key) {\n",
              "          const element = document.querySelector('#df-50700402-d992-4b5a-8e7a-74fb9cf40118');\n",
              "          const dataTable =\n",
              "            await google.colab.kernel.invokeFunction('convertToInteractive',\n",
              "                                                     [key], {});\n",
              "          if (!dataTable) return;\n",
              "\n",
              "          const docLinkHtml = 'Like what you see? Visit the ' +\n",
              "            '<a target=\"_blank\" href=https://colab.research.google.com/notebooks/data_table.ipynb>data table notebook</a>'\n",
              "            + ' to learn more about interactive tables.';\n",
              "          element.innerHTML = '';\n",
              "          dataTable['output_type'] = 'display_data';\n",
              "          await google.colab.output.renderOutput(dataTable, element);\n",
              "          const docLink = document.createElement('div');\n",
              "          docLink.innerHTML = docLinkHtml;\n",
              "          element.appendChild(docLink);\n",
              "        }\n",
              "      </script>\n",
              "    </div>\n",
              "  </div>\n",
              "  "
            ]
          },
          "metadata": {},
          "execution_count": 23
        }
      ]
    },
    {
      "cell_type": "code",
      "source": [
        ""
      ],
      "metadata": {
        "id": "iyCCR4szshVL"
      },
      "execution_count": 23,
      "outputs": []
    },
    {
      "cell_type": "markdown",
      "metadata": {
        "id": "_LSzjgsZ-E6-"
      },
      "source": [
        "## Exploring the data"
      ]
    },
    {
      "cell_type": "code",
      "source": [
        ""
      ],
      "metadata": {
        "id": "HCk18VhPc1hG"
      },
      "execution_count": 23,
      "outputs": []
    },
    {
      "cell_type": "code",
      "source": [
        ""
      ],
      "metadata": {
        "id": "SUTfSaJgc1jm"
      },
      "execution_count": 23,
      "outputs": []
    },
    {
      "cell_type": "code",
      "execution_count": 24,
      "metadata": {
        "colab": {
          "base_uri": "https://localhost:8080/"
        },
        "id": "fgTGcKNC-E6_",
        "outputId": "58d8425f-2d5c-4e6f-b2a1-3f5f8a4b3e0e"
      },
      "outputs": [
        {
          "output_type": "stream",
          "name": "stdout",
          "text": [
            "+-----------------------+-----------------------+-----------------------+\n",
            "|max(Price_in_thousands)|avg(Price_in_thousands)|min(Price_in_thousands)|\n",
            "+-----------------------+-----------------------+-----------------------+\n",
            "|                   82.6|     25.969487179487164|                  9.235|\n",
            "+-----------------------+-----------------------+-----------------------+\n",
            "\n"
          ]
        }
      ],
      "source": [
        "#We can also explicitly ask for specific stats about columns by passing appropriate stats functions\n",
        "from pyspark.sql.functions import mean, min, max\n",
        "final_df.select([max('Price_in_thousands'), mean('Price_in_thousands'), min('Price_in_thousands')] ).show()"
      ]
    },
    {
      "cell_type": "code",
      "source": [
        "#Using crosstab function\n",
        "final_df.stat.crosstab(\"Manufacturer\",\"Model\").show()"
      ],
      "metadata": {
        "colab": {
          "base_uri": "https://localhost:8080/"
        },
        "id": "zwb5DaB4c1mG",
        "outputId": "2e874325-7059-4287-b021-b98ab8eefe4c"
      },
      "execution_count": 25,
      "outputs": [
        {
          "output_type": "stream",
          "name": "stdout",
          "text": [
            "+------------------+------+----+-------+----+---+---+---+------+------+------+------+------+-------+----------+------+-------+------+-------+----+------+------+-----+-------+--------------+-------------+------+--------+------+-------+--------+------+-----+--------+-----------+-------+-------+--------+------+--------------+-------+------+-------+--------+-------+-----+-------+-------+--------+------+----------+--------+--------+--------+-----+---+------+----+--------+--------------+-------------+----------+---+-------+-----+---+-----+------------+-------+------+------+------+-----+------+-----------+-------+-------------+-----------+-------+--------+----+-------+-----------+------+--------+----------+-----+-----+----+---+----------+-------+---------+------+-----+-------+---+---+--------+---+-----+-------------+-------------+------+----------+------+-------+-------+---+------+------+--------+--------+-----+-------+--------+--------+\n",
            "|Manufacturer_Model|3000GT|328i|4Runner|528i| A4| A6| A8|Accent|Accord|Altima|Aurora|Avalon|Avenger|Bonneville|Boxter|Bravada|Breeze|C-Class|CR-V|Cabrio|Camaro|Camry|Caravan|Carrera Cabrio|Carrera Coupe|Catera|Cavalier|Celica|Century|Cherokee|Cirrus|Civic|Concorde|Continental|Contour|Corolla|Corvette|Cougar|Crown Victoria|Cutlass|Dakota|DeVille|Diamante|E-Class|ES300|Eclipse|Elantra|Eldorado|Escort|Expedition|Explorer|F-Series|Firebird|GS300|GTI|Galant|Golf|Grand Am|Grand Cherokee|Grand Marquis|Grand Prix|I30|Integra|Jetta|LHS|LS400|Land Cruiser|LeSabre|Lumina|Malibu|Maxima|Metro|Mirage|Monte Carlo|Montero|Montero Sport|Mountaineer|Mustang|Mystique|Neon|Odyssey|Park Avenue|Passat|Passport|Pathfinder|Prizm|Quest|RAV4| RL|Ram Pickup|Ram Van|Ram Wagon|Ranger|Regal|S-Class| SC| SL|SL-Class| SW|Sable|Sebring Conv.|Sebring Coupe|Sentra|Silhouette|Sonata|Stratus|Sunfire| TL|Tacoma|Taurus|Town car|Villager|Viper|Voyager|Windstar|Wrangler|\n",
            "+------------------+------+----+-------+----+---+---+---+------+------+------+------+------+-------+----------+------+-------+------+-------+----+------+------+-----+-------+--------------+-------------+------+--------+------+-------+--------+------+-----+--------+-----------+-------+-------+--------+------+--------------+-------+------+-------+--------+-------+-----+-------+-------+--------+------+----------+--------+--------+--------+-----+---+------+----+--------+--------------+-------------+----------+---+-------+-----+---+-----+------------+-------+------+------+------+-----+------+-----------+-------+-------------+-----------+-------+--------+----+-------+-----------+------+--------+----------+-----+-----+----+---+----------+-------+---------+------+-----+-------+---+---+--------+---+-----+-------------+-------------+------+----------+------+-------+-------+---+------+------+--------+--------+-----+-------+--------+--------+\n",
            "|            Toyota|     0|   0|      1|   0|  0|  0|  0|     0|     0|     0|     0|     1|      0|         0|     0|      0|     0|      0|   0|     0|     0|    1|      0|             0|            0|     0|       0|     1|      0|       0|     0|    0|       0|          0|      0|      1|       0|     0|             0|      0|     0|      0|       0|      0|    0|      0|      0|       0|     0|         0|       0|       0|       0|    0|  0|     0|   0|       0|             0|            0|         0|  0|      0|    0|  0|    0|           1|      0|     0|     0|     0|    0|     0|          0|      0|            0|          0|      0|       0|   0|      0|          0|     0|       0|         0|    0|    0|   1|  0|         0|      0|        0|     0|    0|      0|  0|  0|       0|  0|    0|            0|            0|     0|         0|     0|      0|      0|  0|     1|     0|       0|       0|    0|      0|       0|       0|\n",
            "|              Audi|     0|   0|      0|   0|  1|  1|  1|     0|     0|     0|     0|     0|      0|         0|     0|      0|     0|      0|   0|     0|     0|    0|      0|             0|            0|     0|       0|     0|      0|       0|     0|    0|       0|          0|      0|      0|       0|     0|             0|      0|     0|      0|       0|      0|    0|      0|      0|       0|     0|         0|       0|       0|       0|    0|  0|     0|   0|       0|             0|            0|         0|  0|      0|    0|  0|    0|           0|      0|     0|     0|     0|    0|     0|          0|      0|            0|          0|      0|       0|   0|      0|          0|     0|       0|         0|    0|    0|   0|  0|         0|      0|        0|     0|    0|      0|  0|  0|       0|  0|    0|            0|            0|     0|         0|     0|      0|      0|  0|     0|     0|       0|       0|    0|      0|       0|       0|\n",
            "|             Dodge|     0|   0|      0|   0|  0|  0|  0|     0|     0|     0|     0|     0|      1|         0|     0|      0|     0|      0|   0|     0|     0|    0|      1|             0|            0|     0|       0|     0|      0|       0|     0|    0|       0|          0|      0|      0|       0|     0|             0|      0|     1|      0|       0|      0|    0|      0|      0|       0|     0|         0|       0|       0|       0|    0|  0|     0|   0|       0|             0|            0|         0|  0|      0|    0|  0|    0|           0|      0|     0|     0|     0|    0|     0|          0|      0|            0|          0|      0|       0|   1|      0|          0|     0|       0|         0|    0|    0|   0|  0|         1|      1|        1|     0|    0|      0|  0|  0|       0|  0|    0|            0|            0|     0|         0|     0|      1|      0|  0|     0|     0|       0|       0|    1|      0|       0|       0|\n",
            "|         Chevrolet|     0|   0|      0|   0|  0|  0|  0|     0|     0|     0|     0|     0|      0|         0|     0|      0|     0|      0|   0|     0|     1|    0|      0|             0|            0|     0|       1|     0|      0|       0|     0|    0|       0|          0|      0|      0|       1|     0|             0|      0|     0|      0|       0|      0|    0|      0|      0|       0|     0|         0|       0|       0|       0|    0|  0|     0|   0|       0|             0|            0|         0|  0|      0|    0|  0|    0|           0|      0|     1|     1|     0|    1|     0|          1|      0|            0|          0|      0|       0|   0|      0|          0|     0|       0|         0|    1|    0|   0|  0|         0|      0|        0|     0|    0|      0|  0|  0|       0|  0|    0|            0|            0|     0|         0|     0|      0|      0|  0|     0|     0|       0|       0|    0|      0|       0|       0|\n",
            "|          Infiniti|     0|   0|      0|   0|  0|  0|  0|     0|     0|     0|     0|     0|      0|         0|     0|      0|     0|      0|   0|     0|     0|    0|      0|             0|            0|     0|       0|     0|      0|       0|     0|    0|       0|          0|      0|      0|       0|     0|             0|      0|     0|      0|       0|      0|    0|      0|      0|       0|     0|         0|       0|       0|       0|    0|  0|     0|   0|       0|             0|            0|         0|  1|      0|    0|  0|    0|           0|      0|     0|     0|     0|    0|     0|          0|      0|            0|          0|      0|       0|   0|      0|          0|     0|       0|         0|    0|    0|   0|  0|         0|      0|        0|     0|    0|      0|  0|  0|       0|  0|    0|            0|            0|     0|         0|     0|      0|      0|  0|     0|     0|       0|       0|    0|      0|       0|       0|\n",
            "|        Mitsubishi|     1|   0|      0|   0|  0|  0|  0|     0|     0|     0|     0|     0|      0|         0|     0|      0|     0|      0|   0|     0|     0|    0|      0|             0|            0|     0|       0|     0|      0|       0|     0|    0|       0|          0|      0|      0|       0|     0|             0|      0|     0|      0|       1|      0|    0|      1|      0|       0|     0|         0|       0|       0|       0|    0|  0|     1|   0|       0|             0|            0|         0|  0|      0|    0|  0|    0|           0|      0|     0|     0|     0|    0|     1|          0|      1|            1|          0|      0|       0|   0|      0|          0|     0|       0|         0|    0|    0|   0|  0|         0|      0|        0|     0|    0|      0|  0|  0|       0|  0|    0|            0|            0|     0|         0|     0|      0|      0|  0|     0|     0|       0|       0|    0|      0|       0|       0|\n",
            "|             Honda|     0|   0|      0|   0|  0|  0|  0|     0|     1|     0|     0|     0|      0|         0|     0|      0|     0|      0|   1|     0|     0|    0|      0|             0|            0|     0|       0|     0|      0|       0|     0|    1|       0|          0|      0|      0|       0|     0|             0|      0|     0|      0|       0|      0|    0|      0|      0|       0|     0|         0|       0|       0|       0|    0|  0|     0|   0|       0|             0|            0|         0|  0|      0|    0|  0|    0|           0|      0|     0|     0|     0|    0|     0|          0|      0|            0|          0|      0|       0|   0|      1|          0|     0|       1|         0|    0|    0|   0|  0|         0|      0|        0|     0|    0|      0|  0|  0|       0|  0|    0|            0|            0|     0|         0|     0|      0|      0|  0|     0|     0|       0|       0|    0|      0|       0|       0|\n",
            "|          Chrysler|     0|   0|      0|   0|  0|  0|  0|     0|     0|     0|     0|     0|      0|         0|     0|      0|     0|      0|   0|     0|     0|    0|      0|             0|            0|     0|       0|     0|      0|       0|     1|    0|       1|          0|      0|      0|       0|     0|             0|      0|     0|      0|       0|      0|    0|      0|      0|       0|     0|         0|       0|       0|       0|    0|  0|     0|   0|       0|             0|            0|         0|  0|      0|    0|  1|    0|           0|      0|     0|     0|     0|    0|     0|          0|      0|            0|          0|      0|       0|   0|      0|          0|     0|       0|         0|    0|    0|   0|  0|         0|      0|        0|     0|    0|      0|  0|  0|       0|  0|    0|            1|            1|     0|         0|     0|      0|      0|  0|     0|     0|       0|       0|    0|      0|       0|       0|\n",
            "|             Lexus|     0|   0|      0|   0|  0|  0|  0|     0|     0|     0|     0|     0|      0|         0|     0|      0|     0|      0|   0|     0|     0|    0|      0|             0|            0|     0|       0|     0|      0|       0|     0|    0|       0|          0|      0|      0|       0|     0|             0|      0|     0|      0|       0|      0|    1|      0|      0|       0|     0|         0|       0|       0|       0|    1|  0|     0|   0|       0|             0|            0|         0|  0|      0|    0|  0|    1|           0|      0|     0|     0|     0|    0|     0|          0|      0|            0|          0|      0|       0|   0|      0|          0|     0|       0|         0|    0|    0|   0|  0|         0|      0|        0|     0|    0|      0|  0|  0|       0|  0|    0|            0|            0|     0|         0|     0|      0|      0|  0|     0|     0|       0|       0|    0|      0|       0|       0|\n",
            "|           Porsche|     0|   0|      0|   0|  0|  0|  0|     0|     0|     0|     0|     0|      0|         0|     1|      0|     0|      0|   0|     0|     0|    0|      0|             1|            1|     0|       0|     0|      0|       0|     0|    0|       0|          0|      0|      0|       0|     0|             0|      0|     0|      0|       0|      0|    0|      0|      0|       0|     0|         0|       0|       0|       0|    0|  0|     0|   0|       0|             0|            0|         0|  0|      0|    0|  0|    0|           0|      0|     0|     0|     0|    0|     0|          0|      0|            0|          0|      0|       0|   0|      0|          0|     0|       0|         0|    0|    0|   0|  0|         0|      0|        0|     0|    0|      0|  0|  0|       0|  0|    0|            0|            0|     0|         0|     0|      0|      0|  0|     0|     0|       0|       0|    0|      0|       0|       0|\n",
            "|          Cadillac|     0|   0|      0|   0|  0|  0|  0|     0|     0|     0|     0|     0|      0|         0|     0|      0|     0|      0|   0|     0|     0|    0|      0|             0|            0|     1|       0|     0|      0|       0|     0|    0|       0|          0|      0|      0|       0|     0|             0|      0|     0|      1|       0|      0|    0|      0|      0|       1|     0|         0|       0|       0|       0|    0|  0|     0|   0|       0|             0|            0|         0|  0|      0|    0|  0|    0|           0|      0|     0|     0|     0|    0|     0|          0|      0|            0|          0|      0|       0|   0|      0|          0|     0|       0|         0|    0|    0|   0|  0|         0|      0|        0|     0|    0|      0|  0|  0|       0|  0|    0|            0|            0|     0|         0|     0|      0|      0|  0|     0|     0|       0|       0|    0|      0|       0|       0|\n",
            "|             Buick|     0|   0|      0|   0|  0|  0|  0|     0|     0|     0|     0|     0|      0|         0|     0|      0|     0|      0|   0|     0|     0|    0|      0|             0|            0|     0|       0|     0|      1|       0|     0|    0|       0|          0|      0|      0|       0|     0|             0|      0|     0|      0|       0|      0|    0|      0|      0|       0|     0|         0|       0|       0|       0|    0|  0|     0|   0|       0|             0|            0|         0|  0|      0|    0|  0|    0|           0|      1|     0|     0|     0|    0|     0|          0|      0|            0|          0|      0|       0|   0|      0|          1|     0|       0|         0|    0|    0|   0|  0|         0|      0|        0|     0|    1|      0|  0|  0|       0|  0|    0|            0|            0|     0|         0|     0|      0|      0|  0|     0|     0|       0|       0|    0|      0|       0|       0|\n",
            "|            Saturn|     0|   0|      0|   0|  0|  0|  0|     0|     0|     0|     0|     0|      0|         0|     0|      0|     0|      0|   0|     0|     0|    0|      0|             0|            0|     0|       0|     0|      0|       0|     0|    0|       0|          0|      0|      0|       0|     0|             0|      0|     0|      0|       0|      0|    0|      0|      0|       0|     0|         0|       0|       0|       0|    0|  0|     0|   0|       0|             0|            0|         0|  0|      0|    0|  0|    0|           0|      0|     0|     0|     0|    0|     0|          0|      0|            0|          0|      0|       0|   0|      0|          0|     0|       0|         0|    0|    0|   0|  0|         0|      0|        0|     0|    0|      0|  1|  1|       0|  1|    0|            0|            0|     0|         0|     0|      0|      0|  0|     0|     0|       0|       0|    0|      0|       0|       0|\n",
            "|        Mercedes-B|     0|   0|      0|   0|  0|  0|  0|     0|     0|     0|     0|     0|      0|         0|     0|      0|     0|      1|   0|     0|     0|    0|      0|             0|            0|     0|       0|     0|      0|       0|     0|    0|       0|          0|      0|      0|       0|     0|             0|      0|     0|      0|       0|      1|    0|      0|      0|       0|     0|         0|       0|       0|       0|    0|  0|     0|   0|       0|             0|            0|         0|  0|      0|    0|  0|    0|           0|      0|     0|     0|     0|    0|     0|          0|      0|            0|          0|      0|       0|   0|      0|          0|     0|       0|         0|    0|    0|   0|  0|         0|      0|        0|     0|    0|      1|  0|  0|       1|  0|    0|            0|            0|     0|         0|     0|      0|      0|  0|     0|     0|       0|       0|    0|      0|       0|       0|\n",
            "|               BMW|     0|   1|      0|   1|  0|  0|  0|     0|     0|     0|     0|     0|      0|         0|     0|      0|     0|      0|   0|     0|     0|    0|      0|             0|            0|     0|       0|     0|      0|       0|     0|    0|       0|          0|      0|      0|       0|     0|             0|      0|     0|      0|       0|      0|    0|      0|      0|       0|     0|         0|       0|       0|       0|    0|  0|     0|   0|       0|             0|            0|         0|  0|      0|    0|  0|    0|           0|      0|     0|     0|     0|    0|     0|          0|      0|            0|          0|      0|       0|   0|      0|          0|     0|       0|         0|    0|    0|   0|  0|         0|      0|        0|     0|    0|      0|  0|  0|       0|  0|    0|            0|            0|     0|         0|     0|      0|      0|  0|     0|     0|       0|       0|    0|      0|       0|       0|\n",
            "|           Lincoln|     0|   0|      0|   0|  0|  0|  0|     0|     0|     0|     0|     0|      0|         0|     0|      0|     0|      0|   0|     0|     0|    0|      0|             0|            0|     0|       0|     0|      0|       0|     0|    0|       0|          1|      0|      0|       0|     0|             0|      0|     0|      0|       0|      0|    0|      0|      0|       0|     0|         0|       0|       0|       0|    0|  0|     0|   0|       0|             0|            0|         0|  0|      0|    0|  0|    0|           0|      0|     0|     0|     0|    0|     0|          0|      0|            0|          0|      0|       0|   0|      0|          0|     0|       0|         0|    0|    0|   0|  0|         0|      0|        0|     0|    0|      0|  0|  0|       0|  0|    0|            0|            0|     0|         0|     0|      0|      0|  0|     0|     0|       1|       0|    0|      0|       0|       0|\n",
            "|            Nissan|     0|   0|      0|   0|  0|  0|  0|     0|     0|     1|     0|     0|      0|         0|     0|      0|     0|      0|   0|     0|     0|    0|      0|             0|            0|     0|       0|     0|      0|       0|     0|    0|       0|          0|      0|      0|       0|     0|             0|      0|     0|      0|       0|      0|    0|      0|      0|       0|     0|         0|       0|       0|       0|    0|  0|     0|   0|       0|             0|            0|         0|  0|      0|    0|  0|    0|           0|      0|     0|     0|     1|    0|     0|          0|      0|            0|          0|      0|       0|   0|      0|          0|     0|       0|         1|    0|    1|   0|  0|         0|      0|        0|     0|    0|      0|  0|  0|       0|  0|    0|            0|            0|     1|         0|     0|      0|      0|  0|     0|     0|       0|       0|    0|      0|       0|       0|\n",
            "|              Jeep|     0|   0|      0|   0|  0|  0|  0|     0|     0|     0|     0|     0|      0|         0|     0|      0|     0|      0|   0|     0|     0|    0|      0|             0|            0|     0|       0|     0|      0|       1|     0|    0|       0|          0|      0|      0|       0|     0|             0|      0|     0|      0|       0|      0|    0|      0|      0|       0|     0|         0|       0|       0|       0|    0|  0|     0|   0|       0|             1|            0|         0|  0|      0|    0|  0|    0|           0|      0|     0|     0|     0|    0|     0|          0|      0|            0|          0|      0|       0|   0|      0|          0|     0|       0|         0|    0|    0|   0|  0|         0|      0|        0|     0|    0|      0|  0|  0|       0|  0|    0|            0|            0|     0|         0|     0|      0|      0|  0|     0|     0|       0|       0|    0|      0|       0|       1|\n",
            "|          Plymouth|     0|   0|      0|   0|  0|  0|  0|     0|     0|     0|     0|     0|      0|         0|     0|      0|     1|      0|   0|     0|     0|    0|      0|             0|            0|     0|       0|     0|      0|       0|     0|    0|       0|          0|      0|      0|       0|     0|             0|      0|     0|      0|       0|      0|    0|      0|      0|       0|     0|         0|       0|       0|       0|    0|  0|     0|   0|       0|             0|            0|         0|  0|      0|    0|  0|    0|           0|      0|     0|     0|     0|    0|     0|          0|      0|            0|          0|      0|       0|   1|      0|          0|     0|       0|         0|    0|    0|   0|  0|         0|      0|        0|     0|    0|      0|  0|  0|       0|  0|    0|            0|            0|     0|         0|     0|      0|      0|  0|     0|     0|       0|       0|    0|      1|       0|       0|\n",
            "|           Pontiac|     0|   0|      0|   0|  0|  0|  0|     0|     0|     0|     0|     0|      0|         1|     0|      0|     0|      0|   0|     0|     0|    0|      0|             0|            0|     0|       0|     0|      0|       0|     0|    0|       0|          0|      0|      0|       0|     0|             0|      0|     0|      0|       0|      0|    0|      0|      0|       0|     0|         0|       0|       0|       1|    0|  0|     0|   0|       1|             0|            0|         1|  0|      0|    0|  0|    0|           0|      0|     0|     0|     0|    0|     0|          0|      0|            0|          0|      0|       0|   0|      0|          0|     0|       0|         0|    0|    0|   0|  0|         0|      0|        0|     0|    0|      0|  0|  0|       0|  0|    0|            0|            0|     0|         0|     0|      0|      1|  0|     0|     0|       0|       0|    0|      0|       0|       0|\n",
            "+------------------+------+----+-------+----+---+---+---+------+------+------+------+------+-------+----------+------+-------+------+-------+----+------+------+-----+-------+--------------+-------------+------+--------+------+-------+--------+------+-----+--------+-----------+-------+-------+--------+------+--------------+-------+------+-------+--------+-------+-----+-------+-------+--------+------+----------+--------+--------+--------+-----+---+------+----+--------+--------------+-------------+----------+---+-------+-----+---+-----+------------+-------+------+------+------+-----+------+-----------+-------+-------------+-----------+-------+--------+----+-------+-----------+------+--------+----------+-----+-----+----+---+----------+-------+---------+------+-----+-------+---+---+--------+---+-----+-------------+-------------+------+----------+------+-------+-------+---+------+------+--------+--------+-----+-------+--------+--------+\n",
            "only showing top 20 rows\n",
            "\n"
          ]
        }
      ]
    },
    {
      "cell_type": "code",
      "source": [
        ""
      ],
      "metadata": {
        "id": "exCno3Lhd9b2"
      },
      "execution_count": 25,
      "outputs": []
    },
    {
      "cell_type": "code",
      "source": [
        "#Mean and standard deviation of prices for Manufacturer by different conditions\n",
        "from pyspark.sql.functions import avg, stddev\n",
        "\n",
        "price_conditon_avg_df = final_df.groupBy('Manufacturer').agg(avg('Price_in_thousands'))\n",
        "price_conditon_avg_df.show()"
      ],
      "metadata": {
        "colab": {
          "base_uri": "https://localhost:8080/"
        },
        "id": "i3j8lziWeskX",
        "outputId": "83128009-b900-4087-d0ec-aa13dab04fac"
      },
      "execution_count": 26,
      "outputs": [
        {
          "output_type": "stream",
          "name": "stdout",
          "text": [
            "+------------+-----------------------+\n",
            "|Manufacturer|avg(Price_in_thousands)|\n",
            "+------------+-----------------------+\n",
            "|  Volkswagen|                 18.058|\n",
            "|  Oldsmobile|               27.82925|\n",
            "|    Infiniti|                 29.465|\n",
            "|       Lexus|                 41.105|\n",
            "|      Saturn|     12.503333333333332|\n",
            "|        Jeep|     20.991666666666664|\n",
            "|  Mitsubishi|     22.167428571428577|\n",
            "|   Chevrolet|              20.164375|\n",
            "|     Hyundai|     12.165666666666667|\n",
            "|       Honda|     20.276999999999997|\n",
            "|        Audi|                  39.98|\n",
            "|    Cadillac|      36.85666666666667|\n",
            "|    Plymouth|     15.856666666666667|\n",
            "|     Pontiac|                 22.412|\n",
            "|     Mercury|     20.748333333333335|\n",
            "|    Chrysler|                  22.28|\n",
            "|     Lincoln|                 41.205|\n",
            "|         BMW|                  36.15|\n",
            "|       Acura|     30.633333333333336|\n",
            "|  Mercedes-B|     58.487500000000004|\n",
            "+------------+-----------------------+\n",
            "only showing top 20 rows\n",
            "\n"
          ]
        }
      ]
    },
    {
      "cell_type": "code",
      "source": [
        "#Plotting distribution of price\n",
        "import matplotlib.pyplot as plt\n",
        "import seaborn as sn\n",
        "%matplotlib inline"
      ],
      "metadata": {
        "id": "OLi6atl1esm-"
      },
      "execution_count": 27,
      "outputs": []
    },
    {
      "cell_type": "code",
      "source": [
        "car_price_pd = final_df.select('Price_in_thousands').toPandas()"
      ],
      "metadata": {
        "id": "U28J0Ku7espX"
      },
      "execution_count": 28,
      "outputs": []
    },
    {
      "cell_type": "code",
      "source": [
        "car_price_pd.info()"
      ],
      "metadata": {
        "colab": {
          "base_uri": "https://localhost:8080/"
        },
        "id": "eUShy2S5esrz",
        "outputId": "34715ea2-db24-4dd2-e172-27144b3014fb"
      },
      "execution_count": 29,
      "outputs": [
        {
          "output_type": "stream",
          "name": "stdout",
          "text": [
            "<class 'pandas.core.frame.DataFrame'>\n",
            "RangeIndex: 117 entries, 0 to 116\n",
            "Data columns (total 1 columns):\n",
            " #   Column              Non-Null Count  Dtype  \n",
            "---  ------              --------------  -----  \n",
            " 0   Price_in_thousands  117 non-null    float64\n",
            "dtypes: float64(1)\n",
            "memory usage: 1.0 KB\n"
          ]
        }
      ]
    },
    {
      "cell_type": "code",
      "source": [
        "car_price_pd.head()"
      ],
      "metadata": {
        "colab": {
          "base_uri": "https://localhost:8080/",
          "height": 206
        },
        "id": "X-21N4dmgkem",
        "outputId": "0a8bec0a-8965-4d37-9bbd-42bde177bcb7"
      },
      "execution_count": 30,
      "outputs": [
        {
          "output_type": "execute_result",
          "data": {
            "text/plain": [
              "   Price_in_thousands\n",
              "0               21.50\n",
              "1               28.40\n",
              "2               42.00\n",
              "3               23.99\n",
              "4               33.95"
            ],
            "text/html": [
              "\n",
              "  <div id=\"df-68ab9da2-1bf6-45ca-8d69-6b16d66debcf\">\n",
              "    <div class=\"colab-df-container\">\n",
              "      <div>\n",
              "<style scoped>\n",
              "    .dataframe tbody tr th:only-of-type {\n",
              "        vertical-align: middle;\n",
              "    }\n",
              "\n",
              "    .dataframe tbody tr th {\n",
              "        vertical-align: top;\n",
              "    }\n",
              "\n",
              "    .dataframe thead th {\n",
              "        text-align: right;\n",
              "    }\n",
              "</style>\n",
              "<table border=\"1\" class=\"dataframe\">\n",
              "  <thead>\n",
              "    <tr style=\"text-align: right;\">\n",
              "      <th></th>\n",
              "      <th>Price_in_thousands</th>\n",
              "    </tr>\n",
              "  </thead>\n",
              "  <tbody>\n",
              "    <tr>\n",
              "      <th>0</th>\n",
              "      <td>21.50</td>\n",
              "    </tr>\n",
              "    <tr>\n",
              "      <th>1</th>\n",
              "      <td>28.40</td>\n",
              "    </tr>\n",
              "    <tr>\n",
              "      <th>2</th>\n",
              "      <td>42.00</td>\n",
              "    </tr>\n",
              "    <tr>\n",
              "      <th>3</th>\n",
              "      <td>23.99</td>\n",
              "    </tr>\n",
              "    <tr>\n",
              "      <th>4</th>\n",
              "      <td>33.95</td>\n",
              "    </tr>\n",
              "  </tbody>\n",
              "</table>\n",
              "</div>\n",
              "      <button class=\"colab-df-convert\" onclick=\"convertToInteractive('df-68ab9da2-1bf6-45ca-8d69-6b16d66debcf')\"\n",
              "              title=\"Convert this dataframe to an interactive table.\"\n",
              "              style=\"display:none;\">\n",
              "        \n",
              "  <svg xmlns=\"http://www.w3.org/2000/svg\" height=\"24px\"viewBox=\"0 0 24 24\"\n",
              "       width=\"24px\">\n",
              "    <path d=\"M0 0h24v24H0V0z\" fill=\"none\"/>\n",
              "    <path d=\"M18.56 5.44l.94 2.06.94-2.06 2.06-.94-2.06-.94-.94-2.06-.94 2.06-2.06.94zm-11 1L8.5 8.5l.94-2.06 2.06-.94-2.06-.94L8.5 2.5l-.94 2.06-2.06.94zm10 10l.94 2.06.94-2.06 2.06-.94-2.06-.94-.94-2.06-.94 2.06-2.06.94z\"/><path d=\"M17.41 7.96l-1.37-1.37c-.4-.4-.92-.59-1.43-.59-.52 0-1.04.2-1.43.59L10.3 9.45l-7.72 7.72c-.78.78-.78 2.05 0 2.83L4 21.41c.39.39.9.59 1.41.59.51 0 1.02-.2 1.41-.59l7.78-7.78 2.81-2.81c.8-.78.8-2.07 0-2.86zM5.41 20L4 18.59l7.72-7.72 1.47 1.35L5.41 20z\"/>\n",
              "  </svg>\n",
              "      </button>\n",
              "      \n",
              "  <style>\n",
              "    .colab-df-container {\n",
              "      display:flex;\n",
              "      flex-wrap:wrap;\n",
              "      gap: 12px;\n",
              "    }\n",
              "\n",
              "    .colab-df-convert {\n",
              "      background-color: #E8F0FE;\n",
              "      border: none;\n",
              "      border-radius: 50%;\n",
              "      cursor: pointer;\n",
              "      display: none;\n",
              "      fill: #1967D2;\n",
              "      height: 32px;\n",
              "      padding: 0 0 0 0;\n",
              "      width: 32px;\n",
              "    }\n",
              "\n",
              "    .colab-df-convert:hover {\n",
              "      background-color: #E2EBFA;\n",
              "      box-shadow: 0px 1px 2px rgba(60, 64, 67, 0.3), 0px 1px 3px 1px rgba(60, 64, 67, 0.15);\n",
              "      fill: #174EA6;\n",
              "    }\n",
              "\n",
              "    [theme=dark] .colab-df-convert {\n",
              "      background-color: #3B4455;\n",
              "      fill: #D2E3FC;\n",
              "    }\n",
              "\n",
              "    [theme=dark] .colab-df-convert:hover {\n",
              "      background-color: #434B5C;\n",
              "      box-shadow: 0px 1px 3px 1px rgba(0, 0, 0, 0.15);\n",
              "      filter: drop-shadow(0px 1px 2px rgba(0, 0, 0, 0.3));\n",
              "      fill: #FFFFFF;\n",
              "    }\n",
              "  </style>\n",
              "\n",
              "      <script>\n",
              "        const buttonEl =\n",
              "          document.querySelector('#df-68ab9da2-1bf6-45ca-8d69-6b16d66debcf button.colab-df-convert');\n",
              "        buttonEl.style.display =\n",
              "          google.colab.kernel.accessAllowed ? 'block' : 'none';\n",
              "\n",
              "        async function convertToInteractive(key) {\n",
              "          const element = document.querySelector('#df-68ab9da2-1bf6-45ca-8d69-6b16d66debcf');\n",
              "          const dataTable =\n",
              "            await google.colab.kernel.invokeFunction('convertToInteractive',\n",
              "                                                     [key], {});\n",
              "          if (!dataTable) return;\n",
              "\n",
              "          const docLinkHtml = 'Like what you see? Visit the ' +\n",
              "            '<a target=\"_blank\" href=https://colab.research.google.com/notebooks/data_table.ipynb>data table notebook</a>'\n",
              "            + ' to learn more about interactive tables.';\n",
              "          element.innerHTML = '';\n",
              "          dataTable['output_type'] = 'display_data';\n",
              "          await google.colab.output.renderOutput(dataTable, element);\n",
              "          const docLink = document.createElement('div');\n",
              "          docLink.innerHTML = docLinkHtml;\n",
              "          element.appendChild(docLink);\n",
              "        }\n",
              "      </script>\n",
              "    </div>\n",
              "  </div>\n",
              "  "
            ]
          },
          "metadata": {},
          "execution_count": 30
        }
      ]
    },
    {
      "cell_type": "code",
      "source": [
        "import pandas as pd"
      ],
      "metadata": {
        "id": "KK-tjszRgqeu"
      },
      "execution_count": 31,
      "outputs": []
    },
    {
      "cell_type": "code",
      "source": [
        "#Density Plot\n",
        "sn.set(rc={\"figure.figsize\": (10, 6)})\n",
        "sn.distplot(pd.to_numeric(car_price_pd['Price_in_thousands']), norm_hist=True)"
      ],
      "metadata": {
        "colab": {
          "base_uri": "https://localhost:8080/",
          "height": 466
        },
        "id": "UKauFwytgv8f",
        "outputId": "ec84f5fb-9908-4987-e0f3-1277e62e9c93"
      },
      "execution_count": 32,
      "outputs": [
        {
          "output_type": "stream",
          "name": "stderr",
          "text": [
            "/usr/local/lib/python3.7/dist-packages/seaborn/distributions.py:2619: FutureWarning: `distplot` is a deprecated function and will be removed in a future version. Please adapt your code to use either `displot` (a figure-level function with similar flexibility) or `histplot` (an axes-level function for histograms).\n",
            "  warnings.warn(msg, FutureWarning)\n"
          ]
        },
        {
          "output_type": "execute_result",
          "data": {
            "text/plain": [
              "<matplotlib.axes._subplots.AxesSubplot at 0x7f7dcde42d10>"
            ]
          },
          "metadata": {},
          "execution_count": 32
        },
        {
          "output_type": "display_data",
          "data": {
            "text/plain": [
              "<Figure size 720x432 with 1 Axes>"
            ],
            "image/png": "[encoded data removed]"
          },
          "metadata": {}
        }
      ]
    },
    {
      "cell_type": "code",
      "source": [
        "#Boxplot\n",
        "sn.boxplot(x= pd.to_numeric(car_price_pd['Price_in_thousands']))"
      ],
      "metadata": {
        "colab": {
          "base_uri": "https://localhost:8080/",
          "height": 411
        },
        "id": "QugdcdWLg5IN",
        "outputId": "67c66fa3-f63c-4caa-b788-b981b5a6fb29"
      },
      "execution_count": 33,
      "outputs": [
        {
          "output_type": "execute_result",
          "data": {
            "text/plain": [
              "<matplotlib.axes._subplots.AxesSubplot at 0x7f7dcb5a7990>"
            ]
          },
          "metadata": {},
          "execution_count": 33
        },
        {
          "output_type": "display_data",
          "data": {
            "text/plain": [
              "<Figure size 720x432 with 1 Axes>"
            ],
            "image/png": "[encoded data removed]"
          },
          "metadata": {}
        }
      ]
    },
    {
      "cell_type": "code",
      "source": [
        ""
      ],
      "metadata": {
        "id": "PRBm59Rssqve"
      },
      "execution_count": 33,
      "outputs": []
    },
    {
      "cell_type": "code",
      "source": [
        "#final_df.stat.corr( 'price', 'sqft_living' )"
      ],
      "metadata": {
        "id": "DRfNUvBTtGPz"
      },
      "execution_count": 34,
      "outputs": []
    },
    {
      "cell_type": "code",
      "source": [
        "# Which factors are hightly correlated with price\n",
        "import numpy as np\n",
        "from pyspark.mllib.stat import Statistics"
      ],
      "metadata": {
        "id": "hi7mEmfBtGSH"
      },
      "execution_count": 35,
      "outputs": []
    },
    {
      "cell_type": "code",
      "source": [
        "final_df.show()"
      ],
      "metadata": {
        "colab": {
          "base_uri": "https://localhost:8080/"
        },
        "id": "kk5qJWHZuhro",
        "outputId": "547bc574-5851-4b38-95fc-f82aacd9d011"
      },
      "execution_count": 36,
      "outputs": [
        {
          "output_type": "stream",
          "name": "stdout",
          "text": [
            "+------------+-----------+------------------+----------------------+------------+------------------+-----------+----------+---------+-----+------+-----------+-------------+---------------+-------------+-----------------+\n",
            "|Manufacturer|      Model|Sales_in_thousands|four_year_resale_value|Vehicle_type|Price_in_thousands|Engine_size|Horsepower|Wheelbase|Width|Length|Curb_weight|Fuel_capacity|Fuel_efficiency|Latest_Launch|Power_perf_factor|\n",
            "+------------+-----------+------------------+----------------------+------------+------------------+-----------+----------+---------+-----+------+-----------+-------------+---------------+-------------+-----------------+\n",
            "|       Acura|    Integra|            16.919|                 16.36|   Passenger|              21.5|        1.8|       140|    101.2| 67.3| 172.4|      2.639|         13.2|             28|     2/2/2012|      58.28014952|\n",
            "|       Acura|         TL|            39.384|                19.875|   Passenger|              28.4|        3.2|       225|    108.1| 70.3| 192.9|      3.517|         17.2|             25|     6/3/2011|      91.37077766|\n",
            "|       Acura|         RL|             8.588|                29.725|   Passenger|              42.0|        3.5|       210|    114.6| 71.4| 196.6|       3.85|         18.0|             22|    3/10/2011|      91.38977933|\n",
            "|        Audi|         A4|            20.397|                22.255|   Passenger|             23.99|        1.8|       150|    102.6| 68.2| 178.0|      2.998|         16.4|             27|    10/8/2011|       62.7776392|\n",
            "|        Audi|         A6|             18.78|                23.555|   Passenger|             33.95|        2.8|       200|    108.7| 76.1| 192.0|      3.561|         18.5|             22|     8/9/2011|      84.56510502|\n",
            "|        Audi|         A8|              1.38|                  39.0|   Passenger|              62.0|        4.2|       310|    113.0| 74.0| 198.2|      3.902|         23.7|             21|    2/27/2012|      134.6568582|\n",
            "|         BMW|       328i|             9.231|                28.675|   Passenger|              33.4|        2.8|       193|    107.3| 68.5| 176.0|      3.197|         16.6|             24|    1/29/2012|      81.87706856|\n",
            "|         BMW|       528i|            17.527|                36.125|   Passenger|              38.9|        2.8|       193|    111.4| 70.9| 188.0|      3.472|         18.5|             25|     4/4/2011|       83.9987238|\n",
            "|       Buick|    Century|            91.561|                12.475|   Passenger|            21.975|        3.1|       175|    109.0| 72.7| 194.6|      3.368|         17.5|             25|    11/2/2011|      71.18145132|\n",
            "|       Buick|      Regal|             39.35|                 13.74|   Passenger|              25.3|        3.8|       240|    109.0| 72.7| 196.2|      3.543|         17.5|             23|     9/3/2011|      95.63670253|\n",
            "|       Buick|Park Avenue|            27.851|                 20.19|   Passenger|            31.965|        3.8|       205|    113.8| 74.7| 206.8|      3.778|         18.5|             24|    3/23/2012|      85.82840825|\n",
            "|       Buick|    LeSabre|            83.257|                 13.36|   Passenger|            27.885|        3.8|       205|    112.2| 73.5| 200.0|      3.591|         17.5|             25|    7/23/2011|      84.25452581|\n",
            "|    Cadillac|    DeVille|            63.729|                22.525|   Passenger|            39.895|        4.6|       275|    115.3| 74.5| 207.2|      3.978|         18.5|             22|    2/23/2012|      113.8545976|\n",
            "|    Cadillac|   Eldorado|             6.536|                25.725|   Passenger|            39.665|        4.6|       275|    108.0| 75.5| 200.6|      3.843|         19.0|             22|   11/27/2011|      113.7658739|\n",
            "|    Cadillac|     Catera|            11.185|                18.225|   Passenger|             31.01|        3.0|       200|    107.4| 70.3| 194.8|       3.77|         18.0|             22|    9/28/2011|      83.48309358|\n",
            "|   Chevrolet|   Cavalier|           145.519|                  9.25|   Passenger|             13.26|        2.2|       115|    104.1| 67.9| 180.9|      2.676|         14.3|             27|    8/17/2011|      46.36334747|\n",
            "|   Chevrolet|     Malibu|           135.126|                11.225|   Passenger|            16.535|        3.1|       170|    107.0| 69.4| 190.4|      3.051|         15.0|             25|    3/19/2012|      67.31446216|\n",
            "|   Chevrolet|     Lumina|            24.629|                 10.31|   Passenger|             18.89|        3.1|       175|    107.5| 72.5| 200.9|       3.33|         16.6|             25|    5/24/2011|       69.9913956|\n",
            "|   Chevrolet|Monte Carlo|            42.593|                11.525|   Passenger|             19.39|        3.4|       180|    110.5| 72.7| 197.9|       3.34|         17.0|             27|   12/22/2011|      72.03091719|\n",
            "|   Chevrolet|     Camaro|            26.402|                13.025|   Passenger|             24.34|        3.8|       200|    101.1| 74.1| 193.2|        3.5|         16.8|             25|   10/23/2011|      81.11854333|\n",
            "+------------+-----------+------------------+----------------------+------------+------------------+-----------+----------+---------+-----+------+-----------+-------------+---------------+-------------+-----------------+\n",
            "only showing top 20 rows\n",
            "\n"
          ]
        }
      ]
    },
    {
      "cell_type": "code",
      "source": [
        "final_df.columns"
      ],
      "metadata": {
        "colab": {
          "base_uri": "https://localhost:8080/"
        },
        "id": "FnGlCUJttGUt",
        "outputId": "298c838e-4490-4aa1-932a-33c43d33a57f"
      },
      "execution_count": 37,
      "outputs": [
        {
          "output_type": "execute_result",
          "data": {
            "text/plain": [
              "['Manufacturer',\n",
              " 'Model',\n",
              " 'Sales_in_thousands',\n",
              " 'four_year_resale_value',\n",
              " 'Vehicle_type',\n",
              " 'Price_in_thousands',\n",
              " 'Engine_size',\n",
              " 'Horsepower',\n",
              " 'Wheelbase',\n",
              " 'Width',\n",
              " 'Length',\n",
              " 'Curb_weight',\n",
              " 'Fuel_capacity',\n",
              " 'Fuel_efficiency',\n",
              " 'Latest_Launch',\n",
              " 'Power_perf_factor']"
            ]
          },
          "metadata": {},
          "execution_count": 37
        }
      ]
    },
    {
      "cell_type": "code",
      "source": [
        "final_df1= final_df"
      ],
      "metadata": {
        "id": "hZp4spE0tGXW"
      },
      "execution_count": 38,
      "outputs": []
    },
    {
      "cell_type": "code",
      "source": [
        "#Columns that will be used as features and their types\n",
        "continuous_features = [\n",
        " 'Sales_in_thousands',\n",
        " 'four_year_resale_value',\n",
        " 'Price_in_thousands',\n",
        " 'Engine_size',\n",
        " 'Horsepower',\n",
        " 'Wheelbase',\n",
        " 'Width',\n",
        " 'Length',\n",
        " 'Curb_weight',\n",
        " 'Fuel_capacity',\n",
        " 'Fuel_efficiency',\n",
        " 'Power_perf_factor']\n",
        "\n",
        "categorical_features = [\n",
        "'Manufacturer',\n",
        "'Model',\n",
        " 'Vehicle_type'\n",
        "]"
      ],
      "metadata": {
        "id": "ltCIYTpltGcF"
      },
      "execution_count": 39,
      "outputs": []
    },
    {
      "cell_type": "code",
      "source": [
        ""
      ],
      "metadata": {
        "id": "eSRKZTritGe6"
      },
      "execution_count": 39,
      "outputs": []
    },
    {
      "cell_type": "code",
      "source": [
        "#Encoding all categorical features\n",
        "from pyspark.ml.feature import OneHotEncoder, StringIndexer, VectorAssembler, PolynomialExpansion, VectorIndexer"
      ],
      "metadata": {
        "id": "WFHhmyXwtGhN"
      },
      "execution_count": 40,
      "outputs": []
    },
    {
      "cell_type": "code",
      "source": [
        "# create object of StringIndexer class and specify input and output column\n",
        "SI_Manufacturer = StringIndexer(inputCol='Manufacturer',outputCol='Manufacturer_Index')\n",
        "SI_Model = StringIndexer(inputCol='Model',outputCol='Model_Index')\n",
        "SI_Vehicle_type = StringIndexer(inputCol='Vehicle_type',outputCol='SI_Vehicle_type_Index')\n",
        "\n"
      ],
      "metadata": {
        "id": "-JKbQeXsZM3p"
      },
      "execution_count": 41,
      "outputs": []
    },
    {
      "cell_type": "code",
      "source": [
        "\n",
        "\n",
        "# transform the data\n",
        "final_df1 = SI_Manufacturer.fit(final_df1).transform(final_df1)\n",
        "final_df1 = SI_Model.fit(final_df1).transform(final_df1)\n",
        "final_df1 = SI_Vehicle_type.fit(final_df1).transform(final_df1)\n",
        "\n",
        "\n",
        "# view the transformed data\n",
        "final_df1.select('Manufacturer', 'Manufacturer_Index', 'Model', 'Model_Index', 'Vehicle_type', 'SI_Vehicle_type_Index').show(10)\n"
      ],
      "metadata": {
        "colab": {
          "base_uri": "https://localhost:8080/"
        },
        "id": "CSzHavkoag9C",
        "outputId": "1abc5c28-58ad-4423-87ba-384d3d0cd5e6"
      },
      "execution_count": 42,
      "outputs": [
        {
          "output_type": "stream",
          "name": "stdout",
          "text": [
            "+------------+------------------+-------+-----------+------------+---------------------+\n",
            "|Manufacturer|Manufacturer_Index|  Model|Model_Index|Vehicle_type|SI_Vehicle_type_Index|\n",
            "+------------+------------------+-------+-----------+------------+---------------------+\n",
            "|       Acura|              14.0|Integra|       63.0|   Passenger|                  0.0|\n",
            "|       Acura|              14.0|     TL|      107.0|   Passenger|                  0.0|\n",
            "|       Acura|              14.0|     RL|       88.0|   Passenger|                  0.0|\n",
            "|        Audi|              15.0|     A4|        5.0|   Passenger|                  0.0|\n",
            "|        Audi|              15.0|     A6|        6.0|   Passenger|                  0.0|\n",
            "|        Audi|              15.0|     A8|        7.0|   Passenger|                  0.0|\n",
            "|         BMW|              23.0|   328i|        2.0|   Passenger|                  0.0|\n",
            "|         BMW|              23.0|   528i|        4.0|   Passenger|                  0.0|\n",
            "|       Buick|              11.0|Century|       29.0|   Passenger|                  0.0|\n",
            "|       Buick|              11.0|  Regal|       93.0|   Passenger|                  0.0|\n",
            "+------------+------------------+-------+-----------+------------+---------------------+\n",
            "only showing top 10 rows\n",
            "\n"
          ]
        }
      ]
    },
    {
      "cell_type": "code",
      "source": [
        "# create object and specify input and output column\n",
        "OHE = OneHotEncoder(inputCols=['Manufacturer_Index', 'Model_Index','SI_Vehicle_type_Index'],outputCols=['Manufacturer_vec', 'Model_vec','SI_Vehicle_type_vec'])\n",
        "\n"
      ],
      "metadata": {
        "id": "D2Oxugd4ZTFY"
      },
      "execution_count": 43,
      "outputs": []
    },
    {
      "cell_type": "code",
      "source": [
        "# transform the data\n",
        "final_df1 = OHE.fit(final_df1).transform(final_df1)\n",
        "\n",
        "# view and transform the data\n",
        "final_df1.select('Manufacturer', 'Manufacturer_Index','Manufacturer_vec', 'Model', 'Model_Index','Model_vec', 'Vehicle_type', 'SI_Vehicle_type_Index','SI_Vehicle_type_vec').show(10)"
      ],
      "metadata": {
        "colab": {
          "base_uri": "https://localhost:8080/"
        },
        "id": "15uBi1DJiAHR",
        "outputId": "dc609e3d-ebc4-4fae-c155-973b0ac75744"
      },
      "execution_count": 44,
      "outputs": [
        {
          "output_type": "stream",
          "name": "stdout",
          "text": [
            "+------------+------------------+----------------+-------+-----------+-----------------+------------+---------------------+-------------------+\n",
            "|Manufacturer|Manufacturer_Index|Manufacturer_vec|  Model|Model_Index|        Model_vec|Vehicle_type|SI_Vehicle_type_Index|SI_Vehicle_type_vec|\n",
            "+------------+------------------+----------------+-------+-----------+-----------------+------------+---------------------+-------------------+\n",
            "|       Acura|              14.0| (25,[14],[1.0])|Integra|       63.0| (115,[63],[1.0])|   Passenger|                  0.0|      (1,[0],[1.0])|\n",
            "|       Acura|              14.0| (25,[14],[1.0])|     TL|      107.0|(115,[107],[1.0])|   Passenger|                  0.0|      (1,[0],[1.0])|\n",
            "|       Acura|              14.0| (25,[14],[1.0])|     RL|       88.0| (115,[88],[1.0])|   Passenger|                  0.0|      (1,[0],[1.0])|\n",
            "|        Audi|              15.0| (25,[15],[1.0])|     A4|        5.0|  (115,[5],[1.0])|   Passenger|                  0.0|      (1,[0],[1.0])|\n",
            "|        Audi|              15.0| (25,[15],[1.0])|     A6|        6.0|  (115,[6],[1.0])|   Passenger|                  0.0|      (1,[0],[1.0])|\n",
            "|        Audi|              15.0| (25,[15],[1.0])|     A8|        7.0|  (115,[7],[1.0])|   Passenger|                  0.0|      (1,[0],[1.0])|\n",
            "|         BMW|              23.0| (25,[23],[1.0])|   328i|        2.0|  (115,[2],[1.0])|   Passenger|                  0.0|      (1,[0],[1.0])|\n",
            "|         BMW|              23.0| (25,[23],[1.0])|   528i|        4.0|  (115,[4],[1.0])|   Passenger|                  0.0|      (1,[0],[1.0])|\n",
            "|       Buick|              11.0| (25,[11],[1.0])|Century|       29.0| (115,[29],[1.0])|   Passenger|                  0.0|      (1,[0],[1.0])|\n",
            "|       Buick|              11.0| (25,[11],[1.0])|  Regal|       93.0| (115,[93],[1.0])|   Passenger|                  0.0|      (1,[0],[1.0])|\n",
            "+------------+------------------+----------------+-------+-----------+-----------------+------------+---------------------+-------------------+\n",
            "only showing top 10 rows\n",
            "\n"
          ]
        }
      ]
    },
    {
      "cell_type": "code",
      "source": [
        "final_df1.printSchema()"
      ],
      "metadata": {
        "colab": {
          "base_uri": "https://localhost:8080/"
        },
        "id": "IApQpMfrv4I-",
        "outputId": "0b725858-e43f-4e19-defe-17f26e08b779"
      },
      "execution_count": 45,
      "outputs": [
        {
          "output_type": "stream",
          "name": "stdout",
          "text": [
            "root\n",
            " |-- Manufacturer: string (nullable = true)\n",
            " |-- Model: string (nullable = true)\n",
            " |-- Sales_in_thousands: double (nullable = true)\n",
            " |-- four_year_resale_value: double (nullable = true)\n",
            " |-- Vehicle_type: string (nullable = true)\n",
            " |-- Price_in_thousands: double (nullable = true)\n",
            " |-- Engine_size: double (nullable = true)\n",
            " |-- Horsepower: integer (nullable = true)\n",
            " |-- Wheelbase: double (nullable = true)\n",
            " |-- Width: double (nullable = true)\n",
            " |-- Length: double (nullable = true)\n",
            " |-- Curb_weight: double (nullable = true)\n",
            " |-- Fuel_capacity: double (nullable = true)\n",
            " |-- Fuel_efficiency: integer (nullable = true)\n",
            " |-- Latest_Launch: string (nullable = true)\n",
            " |-- Power_perf_factor: double (nullable = true)\n",
            " |-- Manufacturer_Index: double (nullable = false)\n",
            " |-- Model_Index: double (nullable = false)\n",
            " |-- SI_Vehicle_type_Index: double (nullable = false)\n",
            " |-- Manufacturer_vec: vector (nullable = true)\n",
            " |-- Model_vec: vector (nullable = true)\n",
            " |-- SI_Vehicle_type_vec: vector (nullable = true)\n",
            "\n"
          ]
        }
      ]
    },
    {
      "cell_type": "code",
      "source": [
        "final_df1.show(5)"
      ],
      "metadata": {
        "colab": {
          "base_uri": "https://localhost:8080/"
        },
        "id": "lHYvtHnTzJee",
        "outputId": "74316bab-a1b9-4ad1-8c34-a669fb4111b1"
      },
      "execution_count": 46,
      "outputs": [
        {
          "output_type": "stream",
          "name": "stdout",
          "text": [
            "+------------+-------+------------------+----------------------+------------+------------------+-----------+----------+---------+-----+------+-----------+-------------+---------------+-------------+-----------------+------------------+-----------+---------------------+----------------+-----------------+-------------------+\n",
            "|Manufacturer|  Model|Sales_in_thousands|four_year_resale_value|Vehicle_type|Price_in_thousands|Engine_size|Horsepower|Wheelbase|Width|Length|Curb_weight|Fuel_capacity|Fuel_efficiency|Latest_Launch|Power_perf_factor|Manufacturer_Index|Model_Index|SI_Vehicle_type_Index|Manufacturer_vec|        Model_vec|SI_Vehicle_type_vec|\n",
            "+------------+-------+------------------+----------------------+------------+------------------+-----------+----------+---------+-----+------+-----------+-------------+---------------+-------------+-----------------+------------------+-----------+---------------------+----------------+-----------------+-------------------+\n",
            "|       Acura|Integra|            16.919|                 16.36|   Passenger|              21.5|        1.8|       140|    101.2| 67.3| 172.4|      2.639|         13.2|             28|     2/2/2012|      58.28014952|              14.0|       63.0|                  0.0| (25,[14],[1.0])| (115,[63],[1.0])|      (1,[0],[1.0])|\n",
            "|       Acura|     TL|            39.384|                19.875|   Passenger|              28.4|        3.2|       225|    108.1| 70.3| 192.9|      3.517|         17.2|             25|     6/3/2011|      91.37077766|              14.0|      107.0|                  0.0| (25,[14],[1.0])|(115,[107],[1.0])|      (1,[0],[1.0])|\n",
            "|       Acura|     RL|             8.588|                29.725|   Passenger|              42.0|        3.5|       210|    114.6| 71.4| 196.6|       3.85|         18.0|             22|    3/10/2011|      91.38977933|              14.0|       88.0|                  0.0| (25,[14],[1.0])| (115,[88],[1.0])|      (1,[0],[1.0])|\n",
            "|        Audi|     A4|            20.397|                22.255|   Passenger|             23.99|        1.8|       150|    102.6| 68.2| 178.0|      2.998|         16.4|             27|    10/8/2011|       62.7776392|              15.0|        5.0|                  0.0| (25,[15],[1.0])|  (115,[5],[1.0])|      (1,[0],[1.0])|\n",
            "|        Audi|     A6|             18.78|                23.555|   Passenger|             33.95|        2.8|       200|    108.7| 76.1| 192.0|      3.561|         18.5|             22|     8/9/2011|      84.56510502|              15.0|        6.0|                  0.0| (25,[15],[1.0])|  (115,[6],[1.0])|      (1,[0],[1.0])|\n",
            "+------------+-------+------------------+----------------------+------------+------------------+-----------+----------+---------+-----+------+-----------+-------------+---------------+-------------+-----------------+------------------+-----------+---------------------+----------------+-----------------+-------------------+\n",
            "only showing top 5 rows\n",
            "\n"
          ]
        }
      ]
    },
    {
      "cell_type": "code",
      "source": [
        "#Create vectors from all features column\n",
        "featureCols = continuous_features + ['Manufacturer_vec',\n",
        "                                   'Model_vec',\n",
        "                                   'SI_Vehicle_type_vec',\n",
        "                                   ]"
      ],
      "metadata": {
        "id": "LtpiXDsCzYrb"
      },
      "execution_count": 47,
      "outputs": []
    },
    {
      "cell_type": "code",
      "source": [
        "featureCols"
      ],
      "metadata": {
        "colab": {
          "base_uri": "https://localhost:8080/"
        },
        "id": "Bip_6FlK0H5A",
        "outputId": "5ba30952-24f3-41a0-e5e5-6cb2f0c57674"
      },
      "execution_count": 48,
      "outputs": [
        {
          "output_type": "execute_result",
          "data": {
            "text/plain": [
              "['Sales_in_thousands',\n",
              " 'four_year_resale_value',\n",
              " 'Price_in_thousands',\n",
              " 'Engine_size',\n",
              " 'Horsepower',\n",
              " 'Wheelbase',\n",
              " 'Width',\n",
              " 'Length',\n",
              " 'Curb_weight',\n",
              " 'Fuel_capacity',\n",
              " 'Fuel_efficiency',\n",
              " 'Power_perf_factor',\n",
              " 'Manufacturer_vec',\n",
              " 'Model_vec',\n",
              " 'SI_Vehicle_type_vec']"
            ]
          },
          "metadata": {},
          "execution_count": 48
        }
      ]
    },
    {
      "cell_type": "code",
      "source": [
        ""
      ],
      "metadata": {
        "id": "Hri1hvf90MJ_"
      },
      "execution_count": 48,
      "outputs": []
    },
    {
      "cell_type": "markdown",
      "metadata": {
        "id": "IlMRS_sZ-E7M"
      },
      "source": [
        "### Preparing for model building\n",
        "- The dataframe need to have two columns: features and label\n",
        "- The vector columns need to named as features\n",
        "- The target variable need to be named as label\n",
        "- Then the dataframe can be directly fed to a model to learn"
      ]
    },
    {
      "cell_type": "code",
      "source": [
        "assembler = VectorAssembler( inputCols = featureCols, outputCol = \"features\")"
      ],
      "metadata": {
        "id": "jHWV7Z8A0Y-m"
      },
      "execution_count": 49,
      "outputs": []
    },
    {
      "cell_type": "code",
      "source": [
        "final_train_df = assembler.transform( final_df1 )"
      ],
      "metadata": {
        "id": "IHD3o6XC0x-b"
      },
      "execution_count": 50,
      "outputs": []
    },
    {
      "cell_type": "code",
      "source": [
        "final_train_df.show( 10 , truncate=False)"
      ],
      "metadata": {
        "colab": {
          "base_uri": "https://localhost:8080/"
        },
        "id": "Bn_j4Ls53dsq",
        "outputId": "a8e409d0-beda-48be-a74c-8ab83407f080"
      },
      "execution_count": 51,
      "outputs": [
        {
          "output_type": "stream",
          "name": "stdout",
          "text": [
            "+------------+-------+------------------+----------------------+------------+------------------+-----------+----------+---------+-----+------+-----------+-------------+---------------+-------------+-----------------+------------------+-----------+---------------------+----------------+-----------------+-------------------+-------------------------------------------------------------------------------------------------------------------------------------+\n",
            "|Manufacturer|Model  |Sales_in_thousands|four_year_resale_value|Vehicle_type|Price_in_thousands|Engine_size|Horsepower|Wheelbase|Width|Length|Curb_weight|Fuel_capacity|Fuel_efficiency|Latest_Launch|Power_perf_factor|Manufacturer_Index|Model_Index|SI_Vehicle_type_Index|Manufacturer_vec|Model_vec        |SI_Vehicle_type_vec|features                                                                                                                             |\n",
            "+------------+-------+------------------+----------------------+------------+------------------+-----------+----------+---------+-----+------+-----------+-------------+---------------+-------------+-----------------+------------------+-----------+---------------------+----------------+-----------------+-------------------+-------------------------------------------------------------------------------------------------------------------------------------+\n",
            "|Acura       |Integra|16.919            |16.36                 |Passenger   |21.5              |1.8        |140       |101.2    |67.3 |172.4 |2.639      |13.2         |28             |2/2/2012     |58.28014952      |14.0              |63.0       |0.0                  |(25,[14],[1.0]) |(115,[63],[1.0]) |(1,[0],[1.0])      |(153,[0,1,2,3,4,5,6,7,8,9,10,11,26,100,152],[16.919,16.36,21.5,1.8,140.0,101.2,67.3,172.4,2.639,13.2,28.0,58.28014952,1.0,1.0,1.0])  |\n",
            "|Acura       |TL     |39.384            |19.875                |Passenger   |28.4              |3.2        |225       |108.1    |70.3 |192.9 |3.517      |17.2         |25             |6/3/2011     |91.37077766      |14.0              |107.0      |0.0                  |(25,[14],[1.0]) |(115,[107],[1.0])|(1,[0],[1.0])      |(153,[0,1,2,3,4,5,6,7,8,9,10,11,26,144,152],[39.384,19.875,28.4,3.2,225.0,108.1,70.3,192.9,3.517,17.2,25.0,91.37077766,1.0,1.0,1.0]) |\n",
            "|Acura       |RL     |8.588             |29.725                |Passenger   |42.0              |3.5        |210       |114.6    |71.4 |196.6 |3.85       |18.0         |22             |3/10/2011    |91.38977933      |14.0              |88.0       |0.0                  |(25,[14],[1.0]) |(115,[88],[1.0]) |(1,[0],[1.0])      |(153,[0,1,2,3,4,5,6,7,8,9,10,11,26,125,152],[8.588,29.725,42.0,3.5,210.0,114.6,71.4,196.6,3.85,18.0,22.0,91.38977933,1.0,1.0,1.0])   |\n",
            "|Audi        |A4     |20.397            |22.255                |Passenger   |23.99             |1.8        |150       |102.6    |68.2 |178.0 |2.998      |16.4         |27             |10/8/2011    |62.7776392       |15.0              |5.0        |0.0                  |(25,[15],[1.0]) |(115,[5],[1.0])  |(1,[0],[1.0])      |(153,[0,1,2,3,4,5,6,7,8,9,10,11,27,42,152],[20.397,22.255,23.99,1.8,150.0,102.6,68.2,178.0,2.998,16.4,27.0,62.7776392,1.0,1.0,1.0])  |\n",
            "|Audi        |A6     |18.78             |23.555                |Passenger   |33.95             |2.8        |200       |108.7    |76.1 |192.0 |3.561      |18.5         |22             |8/9/2011     |84.56510502      |15.0              |6.0        |0.0                  |(25,[15],[1.0]) |(115,[6],[1.0])  |(1,[0],[1.0])      |(153,[0,1,2,3,4,5,6,7,8,9,10,11,27,43,152],[18.78,23.555,33.95,2.8,200.0,108.7,76.1,192.0,3.561,18.5,22.0,84.56510502,1.0,1.0,1.0])  |\n",
            "|Audi        |A8     |1.38              |39.0                  |Passenger   |62.0              |4.2        |310       |113.0    |74.0 |198.2 |3.902      |23.7         |21             |2/27/2012    |134.6568582      |15.0              |7.0        |0.0                  |(25,[15],[1.0]) |(115,[7],[1.0])  |(1,[0],[1.0])      |(153,[0,1,2,3,4,5,6,7,8,9,10,11,27,44,152],[1.38,39.0,62.0,4.2,310.0,113.0,74.0,198.2,3.902,23.7,21.0,134.6568582,1.0,1.0,1.0])      |\n",
            "|BMW         |328i   |9.231             |28.675                |Passenger   |33.4              |2.8        |193       |107.3    |68.5 |176.0 |3.197      |16.6         |24             |1/29/2012    |81.87706856      |23.0              |2.0        |0.0                  |(25,[23],[1.0]) |(115,[2],[1.0])  |(1,[0],[1.0])      |(153,[0,1,2,3,4,5,6,7,8,9,10,11,35,39,152],[9.231,28.675,33.4,2.8,193.0,107.3,68.5,176.0,3.197,16.6,24.0,81.87706856,1.0,1.0,1.0])   |\n",
            "|BMW         |528i   |17.527            |36.125                |Passenger   |38.9              |2.8        |193       |111.4    |70.9 |188.0 |3.472      |18.5         |25             |4/4/2011     |83.9987238       |23.0              |4.0        |0.0                  |(25,[23],[1.0]) |(115,[4],[1.0])  |(1,[0],[1.0])      |(153,[0,1,2,3,4,5,6,7,8,9,10,11,35,41,152],[17.527,36.125,38.9,2.8,193.0,111.4,70.9,188.0,3.472,18.5,25.0,83.9987238,1.0,1.0,1.0])   |\n",
            "|Buick       |Century|91.561            |12.475                |Passenger   |21.975            |3.1        |175       |109.0    |72.7 |194.6 |3.368      |17.5         |25             |11/2/2011    |71.18145132      |11.0              |29.0       |0.0                  |(25,[11],[1.0]) |(115,[29],[1.0]) |(1,[0],[1.0])      |(153,[0,1,2,3,4,5,6,7,8,9,10,11,23,66,152],[91.561,12.475,21.975,3.1,175.0,109.0,72.7,194.6,3.368,17.5,25.0,71.18145132,1.0,1.0,1.0])|\n",
            "|Buick       |Regal  |39.35             |13.74                 |Passenger   |25.3              |3.8        |240       |109.0    |72.7 |196.2 |3.543      |17.5         |23             |9/3/2011     |95.63670253      |11.0              |93.0       |0.0                  |(25,[11],[1.0]) |(115,[93],[1.0]) |(1,[0],[1.0])      |(153,[0,1,2,3,4,5,6,7,8,9,10,11,23,130,152],[39.35,13.74,25.3,3.8,240.0,109.0,72.7,196.2,3.543,17.5,23.0,95.63670253,1.0,1.0,1.0])   |\n",
            "+------------+-------+------------------+----------------------+------------+------------------+-----------+----------+---------+-----+------+-----------+-------------+---------------+-------------+-----------------+------------------+-----------+---------------------+----------------+-----------------+-------------------+-------------------------------------------------------------------------------------------------------------------------------------+\n",
            "only showing top 10 rows\n",
            "\n"
          ]
        }
      ]
    },
    {
      "cell_type": "code",
      "source": [
        "from pyspark.sql.functions import round\n",
        "\n",
        "final_train_df = final_train_df.withColumn( \"label\", round('Price_in_thousands', 4) )"
      ],
      "metadata": {
        "id": "BkcDcZqx3vo4"
      },
      "execution_count": 52,
      "outputs": []
    },
    {
      "cell_type": "code",
      "source": [
        ""
      ],
      "metadata": {
        "id": "mNE3llR7TdJH"
      },
      "execution_count": 52,
      "outputs": []
    },
    {
      "cell_type": "code",
      "source": [
        "#Split the dataset\n",
        "train_df, test_df = final_train_df.randomSplit( [0.7, 0.3], seed = 42 )"
      ],
      "metadata": {
        "id": "-8Ck2Lak32D3"
      },
      "execution_count": 53,
      "outputs": []
    },
    {
      "cell_type": "code",
      "source": [
        "#Build the Linear Regression Model\n",
        "from pyspark.ml.regression import LinearRegression"
      ],
      "metadata": {
        "id": "HctdUDax4H1F"
      },
      "execution_count": 54,
      "outputs": []
    },
    {
      "cell_type": "code",
      "source": [
        "#linreg = LinearRegression(maxIter=500, regParam=0.0)\n",
        "linreg = LinearRegression()"
      ],
      "metadata": {
        "id": "-BkPhDiK4WML"
      },
      "execution_count": 55,
      "outputs": []
    },
    {
      "cell_type": "code",
      "source": [
        "lm = linreg.fit( train_df )"
      ],
      "metadata": {
        "id": "P9zHKl2i4YP0"
      },
      "execution_count": 56,
      "outputs": []
    },
    {
      "cell_type": "code",
      "source": [
        "dir(lm)"
      ],
      "metadata": {
        "colab": {
          "base_uri": "https://localhost:8080/"
        },
        "id": "e88c8CqF4zeC",
        "outputId": "469dc0bb-876d-48c7-c877-5fd8c128fa50"
      },
      "execution_count": 57,
      "outputs": [
        {
          "output_type": "execute_result",
          "data": {
            "text/plain": [
              "['__abstractmethods__',\n",
              " '__class__',\n",
              " '__del__',\n",
              " '__delattr__',\n",
              " '__dict__',\n",
              " '__dir__',\n",
              " '__doc__',\n",
              " '__eq__',\n",
              " '__format__',\n",
              " '__ge__',\n",
              " '__getattribute__',\n",
              " '__gt__',\n",
              " '__hash__',\n",
              " '__init__',\n",
              " '__init_subclass__',\n",
              " '__le__',\n",
              " '__lt__',\n",
              " '__module__',\n",
              " '__ne__',\n",
              " '__new__',\n",
              " '__reduce__',\n",
              " '__reduce_ex__',\n",
              " '__repr__',\n",
              " '__setattr__',\n",
              " '__sizeof__',\n",
              " '__str__',\n",
              " '__subclasshook__',\n",
              " '__weakref__',\n",
              " '_abc_impl',\n",
              " '_call_java',\n",
              " '_copyValues',\n",
              " '_copy_params',\n",
              " '_create_from_java_class',\n",
              " '_create_params_from_java',\n",
              " '_defaultParamMap',\n",
              " '_dummy',\n",
              " '_empty_java_param_map',\n",
              " '_from_java',\n",
              " '_java_obj',\n",
              " '_make_java_param_pair',\n",
              " '_new_java_array',\n",
              " '_new_java_obj',\n",
              " '_paramMap',\n",
              " '_params',\n",
              " '_randomUID',\n",
              " '_resetUid',\n",
              " '_resolveParam',\n",
              " '_set',\n",
              " '_setDefault',\n",
              " '_shouldOwn',\n",
              " '_testOwnParam',\n",
              " '_to_java',\n",
              " '_transfer_param_map_from_java',\n",
              " '_transfer_param_map_to_java',\n",
              " '_transfer_params_from_java',\n",
              " '_transfer_params_to_java',\n",
              " '_transform',\n",
              " 'aggregationDepth',\n",
              " 'clear',\n",
              " 'coefficients',\n",
              " 'copy',\n",
              " 'elasticNetParam',\n",
              " 'epsilon',\n",
              " 'evaluate',\n",
              " 'explainParam',\n",
              " 'explainParams',\n",
              " 'extractParamMap',\n",
              " 'featuresCol',\n",
              " 'fitIntercept',\n",
              " 'getAggregationDepth',\n",
              " 'getElasticNetParam',\n",
              " 'getEpsilon',\n",
              " 'getFeaturesCol',\n",
              " 'getFitIntercept',\n",
              " 'getLabelCol',\n",
              " 'getLoss',\n",
              " 'getMaxBlockSizeInMB',\n",
              " 'getMaxIter',\n",
              " 'getOrDefault',\n",
              " 'getParam',\n",
              " 'getPredictionCol',\n",
              " 'getRegParam',\n",
              " 'getSolver',\n",
              " 'getStandardization',\n",
              " 'getTol',\n",
              " 'getWeightCol',\n",
              " 'hasDefault',\n",
              " 'hasParam',\n",
              " 'hasSummary',\n",
              " 'intercept',\n",
              " 'isDefined',\n",
              " 'isSet',\n",
              " 'labelCol',\n",
              " 'load',\n",
              " 'loss',\n",
              " 'maxBlockSizeInMB',\n",
              " 'maxIter',\n",
              " 'numFeatures',\n",
              " 'params',\n",
              " 'predict',\n",
              " 'predictionCol',\n",
              " 'read',\n",
              " 'regParam',\n",
              " 'save',\n",
              " 'scale',\n",
              " 'set',\n",
              " 'setFeaturesCol',\n",
              " 'setPredictionCol',\n",
              " 'solver',\n",
              " 'standardization',\n",
              " 'summary',\n",
              " 'tol',\n",
              " 'transform',\n",
              " 'uid',\n",
              " 'weightCol',\n",
              " 'write']"
            ]
          },
          "metadata": {},
          "execution_count": 57
        }
      ]
    },
    {
      "cell_type": "code",
      "source": [
        "lm.intercept"
      ],
      "metadata": {
        "colab": {
          "base_uri": "https://localhost:8080/"
        },
        "id": "H3IOSe8N4Zzm",
        "outputId": "403b1346-3344-41eb-dce5-f50d62830877"
      },
      "execution_count": 58,
      "outputs": [
        {
          "output_type": "execute_result",
          "data": {
            "text/plain": [
              "-3.2542110360684684"
            ]
          },
          "metadata": {},
          "execution_count": 58
        }
      ]
    },
    {
      "cell_type": "code",
      "source": [
        "lm.coefficients"
      ],
      "metadata": {
        "colab": {
          "base_uri": "https://localhost:8080/"
        },
        "id": "VeOVcxJe4yuM",
        "outputId": "409a8146-7dec-4fbb-ec90-2e569f51d208"
      },
      "execution_count": 59,
      "outputs": [
        {
          "output_type": "execute_result",
          "data": {
            "text/plain": [
              "DenseVector([-0.009, 0.2109, 0.1856, 1.1108, 0.0283, -0.0214, 0.0385, 0.0021, 1.5017, 0.1568, -0.0807, 0.0736, -1.1753, -1.2615, -0.6207, -0.228, -0.6036, -1.1352, -1.0069, -0.9061, -0.5686, -1.3314, -0.5996, -1.1824, 8.6128, -0.5783, 1.8934, 2.5919, 0.4762, -1.7547, -4.1354, 1.5417, -1.6379, 6.3644, -0.7643, 2.365, 3.361, -1.5419, -1.0397, 0.0, -0.5835, 2.365, -2.0249, -0.113, 9.7142, 0.3712, 0.0, 0.1357, 1.0494, -2.4478, 0.0, 0.0, -1.2401, 1.4453, -0.6321, 0.0, 0.9304, 0.0, 0.0, -0.2474, 0.0, 13.8057, 0.0, 0.4762, -1.0808, -1.2134, 0.0, 0.0, 0.0, 0.0, 0.0, 0.0, -2.2028, -0.653, -1.0306, -0.725, -5.9225, -2.8783, 0.0, 0.0, 0.0, 0.8254, -1.9223, -1.0015, -2.6164, 0.0, 0.0, -0.1705, 4.2769, 0.0, -2.3796, 0.5311, -0.0963, 0.0, -1.6019, -1.2284, 2.4516, 0.0, -3.3023, 0.0, -0.39, -0.0546, -2.8918, 5.8977, 7.8376, 0.0, -3.8909, 0.0, -1.2397, 3.4127, 0.1609, 0.0, 0.175, -1.1582, 0.0, 0.0, 0.2055, -2.7195, 1.4584, 0.0, 0.0, 0.0, -0.355, 0.2843, -0.0948, 4.1281, 0.0, -8.2801, 0.0, -1.5565, -3.793, 9.2111, -0.4042, -1.0031, 15.1393, -0.8268, -1.7729, 1.3379, -1.3893, -1.3672, -1.8407, -2.8839, 0.0, 1.7894, 0.0, -4.2578, 0.0, 3.361, -2.0739, 4.3724, -0.8913, 0.0, 1.1524])"
            ]
          },
          "metadata": {},
          "execution_count": 59
        }
      ]
    },
    {
      "cell_type": "code",
      "source": [
        "y_pred_train = lm.transform(train_df)"
      ],
      "metadata": {
        "id": "EGi1rs2U48Lc"
      },
      "execution_count": 60,
      "outputs": []
    },
    {
      "cell_type": "code",
      "source": [
        "y_pred_train.show(10)"
      ],
      "metadata": {
        "colab": {
          "base_uri": "https://localhost:8080/"
        },
        "id": "Ku9mR4ap4-FB",
        "outputId": "9dd9b465-200d-4906-de93-26f0f18383bd"
      },
      "execution_count": 61,
      "outputs": [
        {
          "output_type": "stream",
          "name": "stdout",
          "text": [
            "+------------+-----------+------------------+----------------------+------------+------------------+-----------+----------+---------+-----+------+-----------+-------------+---------------+-------------+-----------------+------------------+-----------+---------------------+----------------+----------------+-------------------+--------------------+------+------------------+\n",
            "|Manufacturer|      Model|Sales_in_thousands|four_year_resale_value|Vehicle_type|Price_in_thousands|Engine_size|Horsepower|Wheelbase|Width|Length|Curb_weight|Fuel_capacity|Fuel_efficiency|Latest_Launch|Power_perf_factor|Manufacturer_Index|Model_Index|SI_Vehicle_type_Index|Manufacturer_vec|       Model_vec|SI_Vehicle_type_vec|            features| label|        prediction|\n",
            "+------------+-----------+------------------+----------------------+------------+------------------+-----------+----------+---------+-----+------+-----------+-------------+---------------+-------------+-----------------+------------------+-----------+---------------------+----------------+----------------+-------------------+--------------------+------+------------------+\n",
            "|       Acura|    Integra|            16.919|                 16.36|   Passenger|              21.5|        1.8|       140|    101.2| 67.3| 172.4|      2.639|         13.2|             28|     2/2/2012|      58.28014952|              14.0|       63.0|                  0.0| (25,[14],[1.0])|(115,[63],[1.0])|      (1,[0],[1.0])|(153,[0,1,2,3,4,5...|  21.5|21.499999907244867|\n",
            "|       Acura|         RL|             8.588|                29.725|   Passenger|              42.0|        3.5|       210|    114.6| 71.4| 196.6|       3.85|         18.0|             22|    3/10/2011|      91.38977933|              14.0|       88.0|                  0.0| (25,[14],[1.0])|(115,[88],[1.0])|      (1,[0],[1.0])|(153,[0,1,2,3,4,5...|  42.0|41.999999847277955|\n",
            "|        Audi|         A4|            20.397|                22.255|   Passenger|             23.99|        1.8|       150|    102.6| 68.2| 178.0|      2.998|         16.4|             27|    10/8/2011|       62.7776392|              15.0|        5.0|                  0.0| (25,[15],[1.0])| (115,[5],[1.0])|      (1,[0],[1.0])|(153,[0,1,2,3,4,5...| 23.99| 23.98999987870681|\n",
            "|        Audi|         A6|             18.78|                23.555|   Passenger|             33.95|        2.8|       200|    108.7| 76.1| 192.0|      3.561|         18.5|             22|     8/9/2011|      84.56510502|              15.0|        6.0|                  0.0| (25,[15],[1.0])| (115,[6],[1.0])|      (1,[0],[1.0])|(153,[0,1,2,3,4,5...| 33.95| 33.94999978432149|\n",
            "|        Audi|         A8|              1.38|                  39.0|   Passenger|              62.0|        4.2|       310|    113.0| 74.0| 198.2|      3.902|         23.7|             21|    2/27/2012|      134.6568582|              15.0|        7.0|                  0.0| (25,[15],[1.0])| (115,[7],[1.0])|      (1,[0],[1.0])|(153,[0,1,2,3,4,5...|  62.0| 61.99999982747255|\n",
            "|         BMW|       528i|            17.527|                36.125|   Passenger|              38.9|        2.8|       193|    111.4| 70.9| 188.0|      3.472|         18.5|             25|     4/4/2011|       83.9987238|              23.0|        4.0|                  0.0| (25,[23],[1.0])| (115,[4],[1.0])|      (1,[0],[1.0])|(153,[0,1,2,3,4,5...|  38.9| 38.90000030455752|\n",
            "|       Buick|Park Avenue|            27.851|                 20.19|   Passenger|            31.965|        3.8|       205|    113.8| 74.7| 206.8|      3.778|         18.5|             24|    3/23/2012|      85.82840825|              11.0|       81.0|                  0.0| (25,[11],[1.0])|(115,[81],[1.0])|      (1,[0],[1.0])|(153,[0,1,2,3,4,5...|31.965|31.965000367142885|\n",
            "|       Buick|      Regal|             39.35|                 13.74|   Passenger|              25.3|        3.8|       240|    109.0| 72.7| 196.2|      3.543|         17.5|             23|     9/3/2011|      95.63670253|              11.0|       93.0|                  0.0| (25,[11],[1.0])|(115,[93],[1.0])|      (1,[0],[1.0])|(153,[0,1,2,3,4,5...|  25.3|25.300000547671207|\n",
            "|    Cadillac|     Catera|            11.185|                18.225|   Passenger|             31.01|        3.0|       200|    107.4| 70.3| 194.8|       3.77|         18.0|             22|    9/28/2011|      83.48309358|              16.0|       26.0|                  0.0| (25,[16],[1.0])|(115,[26],[1.0])|      (1,[0],[1.0])|(153,[0,1,2,3,4,5...| 31.01|31.010000039173015|\n",
            "|   Chevrolet|   Cavalier|           145.519|                  9.25|   Passenger|             13.26|        2.2|       115|    104.1| 67.9| 180.9|      2.676|         14.3|             27|    8/17/2011|      46.36334747|               2.0|       27.0|                  0.0|  (25,[2],[1.0])|(115,[27],[1.0])|      (1,[0],[1.0])|(153,[0,1,2,3,4,5...| 13.26|13.260000232278188|\n",
            "+------------+-----------+------------------+----------------------+------------+------------------+-----------+----------+---------+-----+------+-----------+-------------+---------------+-------------+-----------------+------------------+-----------+---------------------+----------------+----------------+-------------------+--------------------+------+------------------+\n",
            "only showing top 10 rows\n",
            "\n"
          ]
        }
      ]
    },
    {
      "cell_type": "code",
      "source": [
        "#Make predictions on test data and evaluate\n",
        "y_pred_test = lm.transform( test_df )"
      ],
      "metadata": {
        "id": "EWDyMxdY5ABV"
      },
      "execution_count": 62,
      "outputs": []
    },
    {
      "cell_type": "code",
      "source": [
        "y_pred_test.show(10, truncate=False)"
      ],
      "metadata": {
        "colab": {
          "base_uri": "https://localhost:8080/"
        },
        "id": "dPXuz_H-5JIm",
        "outputId": "8c910aff-d12f-46b8-bc62-3bb7fc53f469"
      },
      "execution_count": 63,
      "outputs": [
        {
          "output_type": "stream",
          "name": "stdout",
          "text": [
            "+------------+-----------+------------------+----------------------+------------+------------------+-----------+----------+---------+-----+------+-----------+-------------+---------------+-------------+-----------------+------------------+-----------+---------------------+----------------+-----------------+-------------------+---------------------------------------------------------------------------------------------------------------------------------------+------+------------------+\n",
            "|Manufacturer|Model      |Sales_in_thousands|four_year_resale_value|Vehicle_type|Price_in_thousands|Engine_size|Horsepower|Wheelbase|Width|Length|Curb_weight|Fuel_capacity|Fuel_efficiency|Latest_Launch|Power_perf_factor|Manufacturer_Index|Model_Index|SI_Vehicle_type_Index|Manufacturer_vec|Model_vec        |SI_Vehicle_type_vec|features                                                                                                                               |label |prediction        |\n",
            "+------------+-----------+------------------+----------------------+------------+------------------+-----------+----------+---------+-----+------+-----------+-------------+---------------+-------------+-----------------+------------------+-----------+---------------------+----------------+-----------------+-------------------+---------------------------------------------------------------------------------------------------------------------------------------+------+------------------+\n",
            "|Acura       |TL         |39.384            |19.875                |Passenger   |28.4              |3.2        |225       |108.1    |70.3 |192.9 |3.517      |17.2         |25             |6/3/2011     |91.37077766      |14.0              |107.0      |0.0                  |(25,[14],[1.0]) |(115,[107],[1.0])|(1,[0],[1.0])      |(153,[0,1,2,3,4,5,6,7,8,9,10,11,26,144,152],[39.384,19.875,28.4,3.2,225.0,108.1,70.3,192.9,3.517,17.2,25.0,91.37077766,1.0,1.0,1.0])   |28.4  |32.305205636134275|\n",
            "|BMW         |328i       |9.231             |28.675                |Passenger   |33.4              |2.8        |193       |107.3    |68.5 |176.0 |3.197      |16.6         |24             |1/29/2012    |81.87706856      |23.0              |2.0        |0.0                  |(25,[23],[1.0]) |(115,[2],[1.0])  |(1,[0],[1.0])      |(153,[0,1,2,3,4,5,6,7,8,9,10,11,35,39,152],[9.231,28.675,33.4,2.8,193.0,107.3,68.5,176.0,3.197,16.6,24.0,81.87706856,1.0,1.0,1.0])     |33.4  |33.2011530825236  |\n",
            "|Buick       |Century    |91.561            |12.475                |Passenger   |21.975            |3.1        |175       |109.0    |72.7 |194.6 |3.368      |17.5         |25             |11/2/2011    |71.18145132      |11.0              |29.0       |0.0                  |(25,[11],[1.0]) |(115,[29],[1.0]) |(1,[0],[1.0])      |(153,[0,1,2,3,4,5,6,7,8,9,10,11,23,66,152],[91.561,12.475,21.975,3.1,175.0,109.0,72.7,194.6,3.368,17.5,25.0,71.18145132,1.0,1.0,1.0])  |21.975|22.896150441284906|\n",
            "|Buick       |LeSabre    |83.257            |13.36                 |Passenger   |27.885            |3.8        |205       |112.2    |73.5 |200.0 |3.591      |17.5         |25             |7/23/2011    |84.25452581      |11.0              |68.0       |0.0                  |(25,[11],[1.0]) |(115,[68],[1.0]) |(1,[0],[1.0])      |(153,[0,1,2,3,4,5,6,7,8,9,10,11,23,105,152],[83.257,13.36,27.885,3.8,205.0,112.2,73.5,200.0,3.591,17.5,25.0,84.25452581,1.0,1.0,1.0])  |27.885|27.151395644593975|\n",
            "|Cadillac    |DeVille    |63.729            |22.525                |Passenger   |39.895            |4.6        |275       |115.3    |74.5 |207.2 |3.978      |18.5         |22             |2/23/2012    |113.8545976      |16.0              |42.0       |0.0                  |(25,[16],[1.0]) |(115,[42],[1.0]) |(1,[0],[1.0])      |(153,[0,1,2,3,4,5,6,7,8,9,10,11,28,79,152],[63.729,22.525,39.895,4.6,275.0,115.3,74.5,207.2,3.978,18.5,22.0,113.8545976,1.0,1.0,1.0])  |39.895|39.16295052733403 |\n",
            "|Cadillac    |Eldorado   |6.536             |25.725                |Passenger   |39.665            |4.6        |275       |108.0    |75.5 |200.6 |3.843      |19.0         |22             |11/27/2011   |113.7658739      |16.0              |48.0       |0.0                  |(25,[16],[1.0]) |(115,[48],[1.0]) |(1,[0],[1.0])      |(153,[0,1,2,3,4,5,6,7,8,9,10,11,28,85,152],[6.536,25.725,39.665,4.6,275.0,108.0,75.5,200.6,3.843,19.0,22.0,113.7658739,1.0,1.0,1.0])   |39.665|40.35848963840027 |\n",
            "|Chevrolet   |Camaro     |26.402            |13.025                |Passenger   |24.34             |3.8        |200       |101.1    |74.1 |193.2 |3.5        |16.8         |25             |10/23/2011   |81.11854333      |2.0               |21.0       |0.0                  |(25,[2],[1.0])  |(115,[21],[1.0]) |(1,[0],[1.0])      |(153,[0,1,2,3,4,5,6,7,8,9,10,11,14,58,152],[26.402,13.025,24.34,3.8,200.0,101.1,74.1,193.2,3.5,16.8,25.0,81.11854333,1.0,1.0,1.0])     |24.34 |27.122486416929856|\n",
            "|Chevrolet   |Malibu     |135.126           |11.225                |Passenger   |16.535            |3.1        |170       |107.0    |69.4 |190.4 |3.051      |15.0         |25             |3/19/2012    |67.31446216      |2.0               |70.0       |0.0                  |(25,[2],[1.0])  |(115,[70],[1.0]) |(1,[0],[1.0])      |(153,[0,1,2,3,4,5,6,7,8,9,10,11,14,107,152],[135.126,11.225,16.535,3.1,170.0,107.0,69.4,190.4,3.051,15.0,25.0,67.31446216,1.0,1.0,1.0])|16.535|20.40655348037698 |\n",
            "|Chevrolet   |Monte Carlo|42.593            |11.525                |Passenger   |19.39             |3.4        |180       |110.5    |72.7 |197.9 |3.34       |17.0         |27             |12/22/2011   |72.03091719      |2.0               |74.0       |0.0                  |(25,[2],[1.0])  |(115,[74],[1.0]) |(1,[0],[1.0])      |(153,[0,1,2,3,4,5,6,7,8,9,10,11,14,111,152],[42.593,11.525,19.39,3.4,180.0,110.5,72.7,197.9,3.34,17.0,27.0,72.03091719,1.0,1.0,1.0])   |19.39 |23.447044765266227|\n",
            "|Chrysler    |Cirrus     |32.306            |12.64                 |Passenger   |16.48             |2.0        |132       |108.0    |71.0 |186.0 |2.911      |16.0         |27             |10/6/2011    |53.56619987      |6.0               |31.0       |0.0                  |(25,[6],[1.0])  |(115,[31],[1.0]) |(1,[0],[1.0])      |(153,[0,1,2,3,4,5,6,7,8,9,10,11,18,68,152],[32.306,12.64,16.48,2.0,132.0,108.0,71.0,186.0,2.911,16.0,27.0,53.56619987,1.0,1.0,1.0])    |16.48 |17.737775083229565|\n",
            "+------------+-----------+------------------+----------------------+------------+------------------+-----------+----------+---------+-----+------+-----------+-------------+---------------+-------------+-----------------+------------------+-----------+---------------------+----------------+-----------------+-------------------+---------------------------------------------------------------------------------------------------------------------------------------+------+------------------+\n",
            "only showing top 10 rows\n",
            "\n"
          ]
        }
      ]
    },
    {
      "cell_type": "code",
      "source": [
        "y_pred_test.select( 'features',  'label', 'prediction', 'Price_in_thousands' ).show( 5 )"
      ],
      "metadata": {
        "colab": {
          "base_uri": "https://localhost:8080/"
        },
        "id": "J540ez4k5Lop",
        "outputId": "7f469af9-ef11-4332-8a74-c48409286bf1"
      },
      "execution_count": 64,
      "outputs": [
        {
          "output_type": "stream",
          "name": "stdout",
          "text": [
            "+--------------------+------+------------------+------------------+\n",
            "|            features| label|        prediction|Price_in_thousands|\n",
            "+--------------------+------+------------------+------------------+\n",
            "|(153,[0,1,2,3,4,5...|  28.4|32.305205636134275|              28.4|\n",
            "|(153,[0,1,2,3,4,5...|  33.4|  33.2011530825236|              33.4|\n",
            "|(153,[0,1,2,3,4,5...|21.975|22.896150441284906|            21.975|\n",
            "|(153,[0,1,2,3,4,5...|27.885|27.151395644593975|            27.885|\n",
            "|(153,[0,1,2,3,4,5...|39.895| 39.16295052733403|            39.895|\n",
            "+--------------------+------+------------------+------------------+\n",
            "only showing top 5 rows\n",
            "\n"
          ]
        }
      ]
    },
    {
      "cell_type": "code",
      "source": [
        ""
      ],
      "metadata": {
        "id": "bu0sNAVa5Nrp"
      },
      "execution_count": 64,
      "outputs": []
    },
    {
      "cell_type": "code",
      "execution_count": 65,
      "metadata": {
        "id": "Iguj2W5j-E7P"
      },
      "outputs": [],
      "source": [
        "#Calculate the actual predicted price\n",
        "from pyspark.sql.functions import exp\n",
        "y_pred_train = y_pred_train.withColumn( \"y_pred\", exp( 'prediction' ) )\n",
        "y_pred_test = y_pred_test.withColumn( \"y_pred\", exp( 'prediction' ) )"
      ]
    },
    {
      "cell_type": "code",
      "source": [
        "y_pred_test.show(10)"
      ],
      "metadata": {
        "colab": {
          "base_uri": "https://localhost:8080/"
        },
        "id": "iBVYkd_j5Z8s",
        "outputId": "70c64ef4-6568-4ba8-9379-c94de3a7d6cd"
      },
      "execution_count": 66,
      "outputs": [
        {
          "output_type": "stream",
          "name": "stdout",
          "text": [
            "+------------+-----------+------------------+----------------------+------------+------------------+-----------+----------+---------+-----+------+-----------+-------------+---------------+-------------+-----------------+------------------+-----------+---------------------+----------------+-----------------+-------------------+--------------------+------+------------------+--------------------+\n",
            "|Manufacturer|      Model|Sales_in_thousands|four_year_resale_value|Vehicle_type|Price_in_thousands|Engine_size|Horsepower|Wheelbase|Width|Length|Curb_weight|Fuel_capacity|Fuel_efficiency|Latest_Launch|Power_perf_factor|Manufacturer_Index|Model_Index|SI_Vehicle_type_Index|Manufacturer_vec|        Model_vec|SI_Vehicle_type_vec|            features| label|        prediction|              y_pred|\n",
            "+------------+-----------+------------------+----------------------+------------+------------------+-----------+----------+---------+-----+------+-----------+-------------+---------------+-------------+-----------------+------------------+-----------+---------------------+----------------+-----------------+-------------------+--------------------+------+------------------+--------------------+\n",
            "|       Acura|         TL|            39.384|                19.875|   Passenger|              28.4|        3.2|       225|    108.1| 70.3| 192.9|      3.517|         17.2|             25|     6/3/2011|      91.37077766|              14.0|      107.0|                  0.0| (25,[14],[1.0])|(115,[107],[1.0])|      (1,[0],[1.0])|(153,[0,1,2,3,4,5...|  28.4|32.305205636134275|1.071451567458225E14|\n",
            "|         BMW|       328i|             9.231|                28.675|   Passenger|              33.4|        2.8|       193|    107.3| 68.5| 176.0|      3.197|         16.6|             24|    1/29/2012|      81.87706856|              23.0|        2.0|                  0.0| (25,[23],[1.0])|  (115,[2],[1.0])|      (1,[0],[1.0])|(153,[0,1,2,3,4,5...|  33.4|  33.2011530825236|2.624687340600496...|\n",
            "|       Buick|    Century|            91.561|                12.475|   Passenger|            21.975|        3.1|       175|    109.0| 72.7| 194.6|      3.368|         17.5|             25|    11/2/2011|      71.18145132|              11.0|       29.0|                  0.0| (25,[11],[1.0])| (115,[29],[1.0])|      (1,[0],[1.0])|(153,[0,1,2,3,4,5...|21.975|22.896150441284906| 8.783584698532368E9|\n",
            "|       Buick|    LeSabre|            83.257|                 13.36|   Passenger|            27.885|        3.8|       205|    112.2| 73.5| 200.0|      3.591|         17.5|             25|    7/23/2011|      84.25452581|              11.0|       68.0|                  0.0| (25,[11],[1.0])| (115,[68],[1.0])|      (1,[0],[1.0])|(153,[0,1,2,3,4,5...|27.885|27.151395644593975|6.190151873283868E11|\n",
            "|    Cadillac|    DeVille|            63.729|                22.525|   Passenger|            39.895|        4.6|       275|    115.3| 74.5| 207.2|      3.978|         18.5|             22|    2/23/2012|      113.8545976|              16.0|       42.0|                  0.0| (25,[16],[1.0])| (115,[42],[1.0])|      (1,[0],[1.0])|(153,[0,1,2,3,4,5...|39.895| 39.16295052733403|1.019185670759735...|\n",
            "|    Cadillac|   Eldorado|             6.536|                25.725|   Passenger|            39.665|        4.6|       275|    108.0| 75.5| 200.6|      3.843|         19.0|             22|   11/27/2011|      113.7658739|              16.0|       48.0|                  0.0| (25,[16],[1.0])| (115,[48],[1.0])|      (1,[0],[1.0])|(153,[0,1,2,3,4,5...|39.665| 40.35848963840027|3.368754385530286...|\n",
            "|   Chevrolet|     Camaro|            26.402|                13.025|   Passenger|             24.34|        3.8|       200|    101.1| 74.1| 193.2|        3.5|         16.8|             25|   10/23/2011|      81.11854333|               2.0|       21.0|                  0.0|  (25,[2],[1.0])| (115,[21],[1.0])|      (1,[0],[1.0])|(153,[0,1,2,3,4,5...| 24.34|27.122486416929856|6.013761305643093E11|\n",
            "|   Chevrolet|     Malibu|           135.126|                11.225|   Passenger|            16.535|        3.1|       170|    107.0| 69.4| 190.4|      3.051|         15.0|             25|    3/19/2012|      67.31446216|               2.0|       70.0|                  0.0|  (25,[2],[1.0])| (115,[70],[1.0])|      (1,[0],[1.0])|(153,[0,1,2,3,4,5...|16.535| 20.40655348037698| 7.285402848161707E8|\n",
            "|   Chevrolet|Monte Carlo|            42.593|                11.525|   Passenger|             19.39|        3.4|       180|    110.5| 72.7| 197.9|       3.34|         17.0|             27|   12/22/2011|      72.03091719|               2.0|       74.0|                  0.0|  (25,[2],[1.0])| (115,[74],[1.0])|      (1,[0],[1.0])|(153,[0,1,2,3,4,5...| 19.39|23.447044765266227|1.523779612102292E10|\n",
            "|    Chrysler|     Cirrus|            32.306|                 12.64|   Passenger|             16.48|        2.0|       132|    108.0| 71.0| 186.0|      2.911|         16.0|             27|    10/6/2011|      53.56619987|               6.0|       31.0|                  0.0|  (25,[6],[1.0])| (115,[31],[1.0])|      (1,[0],[1.0])|(153,[0,1,2,3,4,5...| 16.48|17.737775083229565|   5.0514707184872E7|\n",
            "+------------+-----------+------------------+----------------------+------------+------------------+-----------+----------+---------+-----+------+-----------+-------------+---------------+-------------+-----------------+------------------+-----------+---------------------+----------------+-----------------+-------------------+--------------------+------+------------------+--------------------+\n",
            "only showing top 10 rows\n",
            "\n"
          ]
        }
      ]
    },
    {
      "cell_type": "code",
      "source": [
        "#Calculate RMSE\n",
        "from pyspark.ml.evaluation import RegressionEvaluator\n",
        "\n",
        "rmse_evaluator = RegressionEvaluator(labelCol=\"Price_in_thousands\",\n",
        "                              predictionCol=\"y_pred\",\n",
        "                              metricName=\"rmse\" )"
      ],
      "metadata": {
        "id": "d-9qjvOx5df-"
      },
      "execution_count": 67,
      "outputs": []
    },
    {
      "cell_type": "code",
      "source": [
        "lm_rmse_train = rmse_evaluator.evaluate( y_pred_train )"
      ],
      "metadata": {
        "id": "m1NFFzne7HU6"
      },
      "execution_count": 68,
      "outputs": []
    },
    {
      "cell_type": "code",
      "source": [
        "lm_rmse_train"
      ],
      "metadata": {
        "colab": {
          "base_uri": "https://localhost:8080/"
        },
        "id": "tP1cOTSw7YXW",
        "outputId": "8f7b267d-3bcf-4b8e-98f5-627778c2efbe"
      },
      "execution_count": 69,
      "outputs": [
        {
          "output_type": "execute_result",
          "data": {
            "text/plain": [
              "8.392868556106255e+34"
            ]
          },
          "metadata": {},
          "execution_count": 69
        }
      ]
    },
    {
      "cell_type": "code",
      "source": [
        "lm_rmse_test = rmse_evaluator.evaluate( y_pred_test )"
      ],
      "metadata": {
        "id": "GzntJnCJ7a3h"
      },
      "execution_count": 70,
      "outputs": []
    },
    {
      "cell_type": "code",
      "source": [
        "lm_rmse_test"
      ],
      "metadata": {
        "colab": {
          "base_uri": "https://localhost:8080/"
        },
        "id": "2DeFP3ZV7d7o",
        "outputId": "5ed2a744-d196-42fd-f269-8655325d7527"
      },
      "execution_count": 71,
      "outputs": [
        {
          "output_type": "execute_result",
          "data": {
            "text/plain": [
              "6.551131030358197e+24"
            ]
          },
          "metadata": {},
          "execution_count": 71
        }
      ]
    },
    {
      "cell_type": "code",
      "source": [
        "#Calculate R-squared\n",
        "r2_evaluator = RegressionEvaluator(labelCol=\"Price_in_thousands\",\n",
        "                              predictionCol=\"y_pred\",\n",
        "                              metricName=\"r2\" )"
      ],
      "metadata": {
        "id": "zv62EVt57geC"
      },
      "execution_count": 72,
      "outputs": []
    },
    {
      "cell_type": "code",
      "source": [
        "lm_r2_train = r2_evaluator.evaluate( y_pred_train )\n",
        "lm_r2_train"
      ],
      "metadata": {
        "colab": {
          "base_uri": "https://localhost:8080/"
        },
        "id": "PTLF7VoW7ku1",
        "outputId": "045ad31d-6727-4729-ac2f-05441908f33f"
      },
      "execution_count": 73,
      "outputs": [
        {
          "output_type": "execute_result",
          "data": {
            "text/plain": [
              "-2.895751510958203e+67"
            ]
          },
          "metadata": {},
          "execution_count": 73
        }
      ]
    },
    {
      "cell_type": "code",
      "source": [
        "lm_r2_test = r2_evaluator.evaluate( y_pred_test )"
      ],
      "metadata": {
        "id": "kuTU2sGy7mwd"
      },
      "execution_count": 74,
      "outputs": []
    },
    {
      "cell_type": "code",
      "source": [
        "lm_r2_test"
      ],
      "metadata": {
        "colab": {
          "base_uri": "https://localhost:8080/"
        },
        "id": "2hUGHuVr7vw_",
        "outputId": "97b4d2c8-c2dd-4073-f7dd-7603579fab90"
      },
      "execution_count": 75,
      "outputs": [
        {
          "output_type": "execute_result",
          "data": {
            "text/plain": [
              "-4.153375925710367e+47"
            ]
          },
          "metadata": {},
          "execution_count": 75
        }
      ]
    },
    {
      "cell_type": "code",
      "source": [
        "#An utility function to get evaluation metrics: R-squared and RMSE Values\n",
        "def get_r2_rmse( model, test_df ):\n",
        "  y_pred = model.transform( test_df )\n",
        "  y_pred = y_pred.withColumn( \"y_pred\", exp( 'prediction' ) )\n",
        "  rmse_evaluator = RegressionEvaluator(labelCol=\"Price_in_thousands\",\n",
        "                              predictionCol=\"y_pred\",\n",
        "                              metricName=\"rmse\" )\n",
        "  r2_evaluator = RegressionEvaluator(labelCol=\"Price_in_thousands\",\n",
        "                              predictionCol=\"y_pred\",\n",
        "                              metricName=\"r2\" )\n",
        "\n",
        "  return [np.round( r2_evaluator.evaluate( y_pred ), 2), np.round( rmse_evaluator.evaluate( y_pred ), 2 )]"
      ],
      "metadata": {
        "id": "AbhrI7uR7xkC"
      },
      "execution_count": 76,
      "outputs": []
    },
    {
      "cell_type": "code",
      "source": [
        "perf_params = get_r2_rmse( lm, test_df )"
      ],
      "metadata": {
        "id": "olwAq8r473_t"
      },
      "execution_count": 77,
      "outputs": []
    },
    {
      "cell_type": "code",
      "source": [
        "perf_params"
      ],
      "metadata": {
        "colab": {
          "base_uri": "https://localhost:8080/"
        },
        "id": "6xo1i20u77Fe",
        "outputId": "d6c1b986-a436-4b93-ac84-c469d56c4daa"
      },
      "execution_count": 78,
      "outputs": [
        {
          "output_type": "execute_result",
          "data": {
            "text/plain": [
              "[-4.153375925710367e+47, 6.551131030358197e+24]"
            ]
          },
          "metadata": {},
          "execution_count": 78
        }
      ]
    },
    {
      "cell_type": "code",
      "source": [
        "#Create a dataframe to store all model performances\n",
        "import pandas as pd\n",
        "\n",
        "model_perf = pd.DataFrame( columns = ['name', 'rsquared', 'rmse'] )\n",
        "\n",
        "model_perf = model_perf.append( pd.Series( [\"Linear Regression\"] + perf_params ,\n",
        "                 index = model_perf.columns ),\n",
        "                 ignore_index = True )\n",
        "model_perf"
      ],
      "metadata": {
        "colab": {
          "base_uri": "https://localhost:8080/",
          "height": 81
        },
        "id": "O00EnXTQ783j",
        "outputId": "5a2493c1-2421-421c-b224-692d2b134821"
      },
      "execution_count": 79,
      "outputs": [
        {
          "output_type": "execute_result",
          "data": {
            "text/plain": [
              "                name      rsquared          rmse\n",
              "0  Linear Regression -4.153376e+47  6.551131e+24"
            ],
            "text/html": [
              "\n",
              "  <div id=\"df-d72f1910-3657-48e7-8756-e2164a0e1cfe\">\n",
              "    <div class=\"colab-df-container\">\n",
              "      <div>\n",
              "<style scoped>\n",
              "    .dataframe tbody tr th:only-of-type {\n",
              "        vertical-align: middle;\n",
              "    }\n",
              "\n",
              "    .dataframe tbody tr th {\n",
              "        vertical-align: top;\n",
              "    }\n",
              "\n",
              "    .dataframe thead th {\n",
              "        text-align: right;\n",
              "    }\n",
              "</style>\n",
              "<table border=\"1\" class=\"dataframe\">\n",
              "  <thead>\n",
              "    <tr style=\"text-align: right;\">\n",
              "      <th></th>\n",
              "      <th>name</th>\n",
              "      <th>rsquared</th>\n",
              "      <th>rmse</th>\n",
              "    </tr>\n",
              "  </thead>\n",
              "  <tbody>\n",
              "    <tr>\n",
              "      <th>0</th>\n",
              "      <td>Linear Regression</td>\n",
              "      <td>-4.153376e+47</td>\n",
              "      <td>6.551131e+24</td>\n",
              "    </tr>\n",
              "  </tbody>\n",
              "</table>\n",
              "</div>\n",
              "      <button class=\"colab-df-convert\" onclick=\"convertToInteractive('df-d72f1910-3657-48e7-8756-e2164a0e1cfe')\"\n",
              "              title=\"Convert this dataframe to an interactive table.\"\n",
              "              style=\"display:none;\">\n",
              "        \n",
              "  <svg xmlns=\"http://www.w3.org/2000/svg\" height=\"24px\"viewBox=\"0 0 24 24\"\n",
              "       width=\"24px\">\n",
              "    <path d=\"M0 0h24v24H0V0z\" fill=\"none\"/>\n",
              "    <path d=\"M18.56 5.44l.94 2.06.94-2.06 2.06-.94-2.06-.94-.94-2.06-.94 2.06-2.06.94zm-11 1L8.5 8.5l.94-2.06 2.06-.94-2.06-.94L8.5 2.5l-.94 2.06-2.06.94zm10 10l.94 2.06.94-2.06 2.06-.94-2.06-.94-.94-2.06-.94 2.06-2.06.94z\"/><path d=\"M17.41 7.96l-1.37-1.37c-.4-.4-.92-.59-1.43-.59-.52 0-1.04.2-1.43.59L10.3 9.45l-7.72 7.72c-.78.78-.78 2.05 0 2.83L4 21.41c.39.39.9.59 1.41.59.51 0 1.02-.2 1.41-.59l7.78-7.78 2.81-2.81c.8-.78.8-2.07 0-2.86zM5.41 20L4 18.59l7.72-7.72 1.47 1.35L5.41 20z\"/>\n",
              "  </svg>\n",
              "      </button>\n",
              "      \n",
              "  <style>\n",
              "    .colab-df-container {\n",
              "      display:flex;\n",
              "      flex-wrap:wrap;\n",
              "      gap: 12px;\n",
              "    }\n",
              "\n",
              "    .colab-df-convert {\n",
              "      background-color: #E8F0FE;\n",
              "      border: none;\n",
              "      border-radius: 50%;\n",
              "      cursor: pointer;\n",
              "      display: none;\n",
              "      fill: #1967D2;\n",
              "      height: 32px;\n",
              "      padding: 0 0 0 0;\n",
              "      width: 32px;\n",
              "    }\n",
              "\n",
              "    .colab-df-convert:hover {\n",
              "      background-color: #E2EBFA;\n",
              "      box-shadow: 0px 1px 2px rgba(60, 64, 67, 0.3), 0px 1px 3px 1px rgba(60, 64, 67, 0.15);\n",
              "      fill: #174EA6;\n",
              "    }\n",
              "\n",
              "    [theme=dark] .colab-df-convert {\n",
              "      background-color: #3B4455;\n",
              "      fill: #D2E3FC;\n",
              "    }\n",
              "\n",
              "    [theme=dark] .colab-df-convert:hover {\n",
              "      background-color: #434B5C;\n",
              "      box-shadow: 0px 1px 3px 1px rgba(0, 0, 0, 0.15);\n",
              "      filter: drop-shadow(0px 1px 2px rgba(0, 0, 0, 0.3));\n",
              "      fill: #FFFFFF;\n",
              "    }\n",
              "  </style>\n",
              "\n",
              "      <script>\n",
              "        const buttonEl =\n",
              "          document.querySelector('#df-d72f1910-3657-48e7-8756-e2164a0e1cfe button.colab-df-convert');\n",
              "        buttonEl.style.display =\n",
              "          google.colab.kernel.accessAllowed ? 'block' : 'none';\n",
              "\n",
              "        async function convertToInteractive(key) {\n",
              "          const element = document.querySelector('#df-d72f1910-3657-48e7-8756-e2164a0e1cfe');\n",
              "          const dataTable =\n",
              "            await google.colab.kernel.invokeFunction('convertToInteractive',\n",
              "                                                     [key], {});\n",
              "          if (!dataTable) return;\n",
              "\n",
              "          const docLinkHtml = 'Like what you see? Visit the ' +\n",
              "            '<a target=\"_blank\" href=https://colab.research.google.com/notebooks/data_table.ipynb>data table notebook</a>'\n",
              "            + ' to learn more about interactive tables.';\n",
              "          element.innerHTML = '';\n",
              "          dataTable['output_type'] = 'display_data';\n",
              "          await google.colab.output.renderOutput(dataTable, element);\n",
              "          const docLink = document.createElement('div');\n",
              "          docLink.innerHTML = docLinkHtml;\n",
              "          element.appendChild(docLink);\n",
              "        }\n",
              "      </script>\n",
              "    </div>\n",
              "  </div>\n",
              "  "
            ]
          },
          "metadata": {},
          "execution_count": 79
        }
      ]
    },
    {
      "cell_type": "code",
      "source": [
        "#Grid Search for Optimal Regularization Parameter\n",
        "from pyspark.ml.tuning import CrossValidator, ParamGridBuilder"
      ],
      "metadata": {
        "id": "gweeUMVX8ETu"
      },
      "execution_count": 80,
      "outputs": []
    },
    {
      "cell_type": "code",
      "source": [
        "lrModel = LinearRegression(maxIter=50)"
      ],
      "metadata": {
        "id": "RTL_nvkF8Hzw"
      },
      "execution_count": 81,
      "outputs": []
    },
    {
      "cell_type": "code",
      "source": [
        ""
      ],
      "metadata": {
        "id": "ecxKLsll8Jo6"
      },
      "execution_count": 81,
      "outputs": []
    }
  ]
}