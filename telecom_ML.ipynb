{
 "cells": [
  {
   "cell_type": "code",
   "execution_count": 1,
   "metadata": {},
   "outputs": [],
   "source": [
    "from pyspark.sql import SparkSession\n",
    "\n",
    "spark = SparkSession.builder.appName(\"DataframeExercise\").getOrCreate()"
   ]
  },
  {
   "cell_type": "code",
   "execution_count": 2,
   "metadata": {},
   "outputs": [
    {
     "data": {
      "text/html": [
       "\n",
       "        <div>\n",
       "            <p><b>SparkContext</b></p>\n",
       "\n",
       "            <p><a href=\"http://ip-10-1-1-204.ap-south-1.compute.internal:43003\">Spark UI</a></p>\n",
       "\n",
       "            <dl>\n",
       "              <dt>Version</dt>\n",
       "                <dd><code>v2.4.0</code></dd>\n",
       "              <dt>Master</dt>\n",
       "                <dd><code>local[*]</code></dd>\n",
       "              <dt>AppName</dt>\n",
       "                <dd><code>DataframeExercise</code></dd>\n",
       "            </dl>\n",
       "        </div>\n",
       "        "
      ],
      "text/plain": [
       "<SparkContext master=local[*] appName=DataframeExercise>"
      ]
     },
     "execution_count": 2,
     "metadata": {},
     "output_type": "execute_result"
    }
   ],
   "source": [
    "spark.sparkContext"
   ]
  },
  {
   "cell_type": "code",
   "execution_count": 3,
   "metadata": {},
   "outputs": [],
   "source": [
    "\n",
    "from pyspark.sql import SQLContext\n",
    "\n",
    "\n",
    "from pyspark.sql.functions import split\n",
    "from pyspark.sql.functions import col\n",
    "\n",
    "from pyspark.sql.functions import regexp_replace"
   ]
  },
  {
   "cell_type": "code",
   "execution_count": null,
   "metadata": {},
   "outputs": [],
   "source": []
  },
  {
   "cell_type": "code",
   "execution_count": 4,
   "metadata": {},
   "outputs": [
    {
     "data": {
      "text/html": [
       "\n",
       "            <div>\n",
       "                <p><b>SparkSession - in-memory</b></p>\n",
       "                \n",
       "        <div>\n",
       "            <p><b>SparkContext</b></p>\n",
       "\n",
       "            <p><a href=\"http://ip-10-1-1-204.ap-south-1.compute.internal:43003\">Spark UI</a></p>\n",
       "\n",
       "            <dl>\n",
       "              <dt>Version</dt>\n",
       "                <dd><code>v2.4.0</code></dd>\n",
       "              <dt>Master</dt>\n",
       "                <dd><code>local[*]</code></dd>\n",
       "              <dt>AppName</dt>\n",
       "                <dd><code>DataframeExercise</code></dd>\n",
       "            </dl>\n",
       "        </div>\n",
       "        \n",
       "            </div>\n",
       "        "
      ],
      "text/plain": [
       "<pyspark.sql.session.SparkSession at 0x7f77e442c8d0>"
      ]
     },
     "execution_count": 4,
     "metadata": {},
     "output_type": "execute_result"
    }
   ],
   "source": [
    "from pyspark.sql import SparkSession\n",
    "from pyspark.sql.types import *\n",
    "from pyspark.sql.functions import *\n",
    "spark = SparkSession.builder.appName(\"app_analytics\").getOrCreate()\n",
    "spark"
   ]
  },
  {
   "cell_type": "code",
   "execution_count": null,
   "metadata": {},
   "outputs": [],
   "source": []
  },
  {
   "cell_type": "code",
   "execution_count": null,
   "metadata": {},
   "outputs": [],
   "source": []
  },
  {
   "cell_type": "code",
   "execution_count": 43,
   "metadata": {},
   "outputs": [],
   "source": [
    "df = spark.read.format(\"csv\").option(\"inferSchema\", 'true').option(\"header\", 'true').option('sep',\",\").load(\"churn.csv\")"
   ]
  },
  {
   "cell_type": "code",
   "execution_count": 44,
   "metadata": {
    "scrolled": true
   },
   "outputs": [
    {
     "name": "stdout",
     "output_type": "stream",
     "text": [
      "+-----+--------------+---------+------------+------------------+---------------+---------------------+-----------------+---------------+----------------+-----------------+---------------+----------------+-------------------+-----------------+------------------+------------------+----------------+-----------------+----------------------+-----+\n",
      "|state|account length|area code|phone number|international plan|voice mail plan|number vmail messages|total day minutes|total day calls|total day charge|total eve minutes|total eve calls|total eve charge|total night minutes|total night calls|total night charge|total intl minutes|total intl calls|total intl charge|customer service calls|churn|\n",
      "+-----+--------------+---------+------------+------------------+---------------+---------------------+-----------------+---------------+----------------+-----------------+---------------+----------------+-------------------+-----------------+------------------+------------------+----------------+-----------------+----------------------+-----+\n",
      "|   KS|           128|      415|    382-4657|                no|            yes|                   25|            265.1|            110|           45.07|            197.4|             99|           16.78|              244.7|               91|             11.01|              10.0|               3|              2.7|                     1|false|\n",
      "|   OH|           107|      415|    371-7191|                no|            yes|                   26|            161.6|            123|           27.47|            195.5|            103|           16.62|              254.4|              103|             11.45|              13.7|               3|              3.7|                     1|false|\n",
      "+-----+--------------+---------+------------+------------------+---------------+---------------------+-----------------+---------------+----------------+-----------------+---------------+----------------+-------------------+-----------------+------------------+------------------+----------------+-----------------+----------------------+-----+\n",
      "only showing top 2 rows\n",
      "\n"
     ]
    }
   ],
   "source": [
    "df.show(2)"
   ]
  },
  {
   "cell_type": "code",
   "execution_count": 45,
   "metadata": {},
   "outputs": [
    {
     "ename": "TypeError",
     "evalue": "'str' object is not callable",
     "output_type": "error",
     "traceback": [
      "\u001b[0;31m---------------------------------------------------------------------------\u001b[0m",
      "\u001b[0;31mTypeError\u001b[0m                                 Traceback (most recent call last)",
      "\u001b[0;32m<ipython-input-45-26a65e025fc2>\u001b[0m in \u001b[0;36m<module>\u001b[0;34m\u001b[0m\n\u001b[0;32m----> 1\u001b[0;31m \u001b[0mdf\u001b[0m\u001b[0;34m.\u001b[0m\u001b[0mselect\u001b[0m\u001b[0;34m(\u001b[0m\u001b[0;34m[\u001b[0m\u001b[0mcount\u001b[0m\u001b[0;34m(\u001b[0m\u001b[0mwhen\u001b[0m\u001b[0;34m(\u001b[0m\u001b[0mcol\u001b[0m\u001b[0;34m(\u001b[0m\u001b[0mc\u001b[0m\u001b[0;34m)\u001b[0m\u001b[0;34m.\u001b[0m\u001b[0misNull\u001b[0m\u001b[0;34m(\u001b[0m\u001b[0;34m)\u001b[0m\u001b[0;34m,\u001b[0m\u001b[0mc\u001b[0m\u001b[0;34m)\u001b[0m\u001b[0;34m)\u001b[0m\u001b[0;34m.\u001b[0m\u001b[0malias\u001b[0m\u001b[0;34m(\u001b[0m\u001b[0mc\u001b[0m\u001b[0;34m)\u001b[0m \u001b[0;32mfor\u001b[0m \u001b[0mc\u001b[0m \u001b[0;32min\u001b[0m \u001b[0mdf\u001b[0m\u001b[0;34m.\u001b[0m\u001b[0mcolumns\u001b[0m\u001b[0;34m]\u001b[0m\u001b[0;34m)\u001b[0m\u001b[0;34m.\u001b[0m\u001b[0mshow\u001b[0m\u001b[0;34m(\u001b[0m\u001b[0;34m)\u001b[0m\u001b[0;34m\u001b[0m\u001b[0;34m\u001b[0m\u001b[0m\n\u001b[0m",
      "\u001b[0;32m<ipython-input-45-26a65e025fc2>\u001b[0m in \u001b[0;36m<listcomp>\u001b[0;34m(.0)\u001b[0m\n\u001b[0;32m----> 1\u001b[0;31m \u001b[0mdf\u001b[0m\u001b[0;34m.\u001b[0m\u001b[0mselect\u001b[0m\u001b[0;34m(\u001b[0m\u001b[0;34m[\u001b[0m\u001b[0mcount\u001b[0m\u001b[0;34m(\u001b[0m\u001b[0mwhen\u001b[0m\u001b[0;34m(\u001b[0m\u001b[0mcol\u001b[0m\u001b[0;34m(\u001b[0m\u001b[0mc\u001b[0m\u001b[0;34m)\u001b[0m\u001b[0;34m.\u001b[0m\u001b[0misNull\u001b[0m\u001b[0;34m(\u001b[0m\u001b[0;34m)\u001b[0m\u001b[0;34m,\u001b[0m\u001b[0mc\u001b[0m\u001b[0;34m)\u001b[0m\u001b[0;34m)\u001b[0m\u001b[0;34m.\u001b[0m\u001b[0malias\u001b[0m\u001b[0;34m(\u001b[0m\u001b[0mc\u001b[0m\u001b[0;34m)\u001b[0m \u001b[0;32mfor\u001b[0m \u001b[0mc\u001b[0m \u001b[0;32min\u001b[0m \u001b[0mdf\u001b[0m\u001b[0;34m.\u001b[0m\u001b[0mcolumns\u001b[0m\u001b[0;34m]\u001b[0m\u001b[0;34m)\u001b[0m\u001b[0;34m.\u001b[0m\u001b[0mshow\u001b[0m\u001b[0;34m(\u001b[0m\u001b[0;34m)\u001b[0m\u001b[0;34m\u001b[0m\u001b[0;34m\u001b[0m\u001b[0m\n\u001b[0m",
      "\u001b[0;31mTypeError\u001b[0m: 'str' object is not callable"
     ]
    }
   ],
   "source": [
    "df.select([count(when(col(c).isNull(),c)).alias(c) for c in df.columns]).show()"
   ]
  },
  {
   "cell_type": "code",
   "execution_count": null,
   "metadata": {},
   "outputs": [],
   "source": []
  },
  {
   "cell_type": "code",
   "execution_count": 46,
   "metadata": {},
   "outputs": [],
   "source": [
    "df.createOrReplaceTempView(\"df_sql\")"
   ]
  },
  {
   "cell_type": "code",
   "execution_count": null,
   "metadata": {},
   "outputs": [],
   "source": []
  },
  {
   "cell_type": "code",
   "execution_count": 47,
   "metadata": {},
   "outputs": [
    {
     "data": {
      "text/plain": [
       "['state',\n",
       " 'account length',\n",
       " 'area code',\n",
       " 'phone number',\n",
       " 'international plan',\n",
       " 'voice mail plan',\n",
       " 'number vmail messages',\n",
       " 'total day minutes',\n",
       " 'total day calls',\n",
       " 'total day charge',\n",
       " 'total eve minutes',\n",
       " 'total eve calls',\n",
       " 'total eve charge',\n",
       " 'total night minutes',\n",
       " 'total night calls',\n",
       " 'total night charge',\n",
       " 'total intl minutes',\n",
       " 'total intl calls',\n",
       " 'total intl charge',\n",
       " 'customer service calls',\n",
       " 'churn']"
      ]
     },
     "execution_count": 47,
     "metadata": {},
     "output_type": "execute_result"
    }
   ],
   "source": [
    "df.columns"
   ]
  },
  {
   "cell_type": "code",
   "execution_count": null,
   "metadata": {},
   "outputs": [],
   "source": []
  },
  {
   "cell_type": "code",
   "execution_count": 48,
   "metadata": {},
   "outputs": [],
   "source": [
    "df1 = df\n",
    "for col in df.columns:\n",
    " df1 = df1.withColumnRenamed(col,col.replace(\" \", \"_\"))"
   ]
  },
  {
   "cell_type": "code",
   "execution_count": 49,
   "metadata": {},
   "outputs": [
    {
     "name": "stdout",
     "output_type": "stream",
     "text": [
      "+-----+--------------+---------+------------+------------------+---------------+---------------------+-----------------+---------------+----------------+-----------------+---------------+----------------+-------------------+-----------------+------------------+------------------+----------------+-----------------+----------------------+-----+\n",
      "|state|account_length|area_code|phone_number|international_plan|voice_mail_plan|number_vmail_messages|total_day_minutes|total_day_calls|total_day_charge|total_eve_minutes|total_eve_calls|total_eve_charge|total_night_minutes|total_night_calls|total_night_charge|total_intl_minutes|total_intl_calls|total_intl_charge|customer_service_calls|churn|\n",
      "+-----+--------------+---------+------------+------------------+---------------+---------------------+-----------------+---------------+----------------+-----------------+---------------+----------------+-------------------+-----------------+------------------+------------------+----------------+-----------------+----------------------+-----+\n",
      "|   KS|           128|      415|    382-4657|                no|            yes|                   25|            265.1|            110|           45.07|            197.4|             99|           16.78|              244.7|               91|             11.01|              10.0|               3|              2.7|                     1|false|\n",
      "|   OH|           107|      415|    371-7191|                no|            yes|                   26|            161.6|            123|           27.47|            195.5|            103|           16.62|              254.4|              103|             11.45|              13.7|               3|              3.7|                     1|false|\n",
      "|   NJ|           137|      415|    358-1921|                no|             no|                    0|            243.4|            114|           41.38|            121.2|            110|            10.3|              162.6|              104|              7.32|              12.2|               5|             3.29|                     0|false|\n",
      "+-----+--------------+---------+------------+------------------+---------------+---------------------+-----------------+---------------+----------------+-----------------+---------------+----------------+-------------------+-----------------+------------------+------------------+----------------+-----------------+----------------------+-----+\n",
      "only showing top 3 rows\n",
      "\n"
     ]
    }
   ],
   "source": [
    "df1.show(3)"
   ]
  },
  {
   "cell_type": "code",
   "execution_count": 50,
   "metadata": {},
   "outputs": [
    {
     "name": "stdout",
     "output_type": "stream",
     "text": [
      "+-----+--------------+---------+------------+------------------+---------------+---------------------+-----------------+---------------+----------------+-----------------+---------------+----------------+-------------------+-----------------+------------------+------------------+----------------+-----------------+----------------------+-----+\n",
      "|state|account_length|area_code|phone_number|international_plan|voice_mail_plan|number_vmail_messages|total_day_minutes|total_day_calls|total_day_charge|total_eve_minutes|total_eve_calls|total_eve_charge|total_night_minutes|total_night_calls|total_night_charge|total_intl_minutes|total_intl_calls|total_intl_charge|customer_service_calls|churn|\n",
      "+-----+--------------+---------+------------+------------------+---------------+---------------------+-----------------+---------------+----------------+-----------------+---------------+----------------+-------------------+-----------------+------------------+------------------+----------------+-----------------+----------------------+-----+\n",
      "|   KS|           128|      415|    382-4657|                no|            yes|                   25|            265.1|            110|           45.07|            197.4|             99|           16.78|              244.7|               91|             11.01|              10.0|               3|              2.7|                     1|false|\n",
      "+-----+--------------+---------+------------+------------------+---------------+---------------------+-----------------+---------------+----------------+-----------------+---------------+----------------+-------------------+-----------------+------------------+------------------+----------------+-----------------+----------------------+-----+\n",
      "only showing top 1 row\n",
      "\n"
     ]
    }
   ],
   "source": [
    "df1.show(1)"
   ]
  },
  {
   "cell_type": "code",
   "execution_count": null,
   "metadata": {},
   "outputs": [],
   "source": []
  },
  {
   "cell_type": "code",
   "execution_count": 51,
   "metadata": {},
   "outputs": [],
   "source": [
    "df1.createOrReplaceTempView('df_sql')"
   ]
  },
  {
   "cell_type": "code",
   "execution_count": 52,
   "metadata": {},
   "outputs": [],
   "source": [
    "df2 = spark.sql(\"select *,case when churn = 'false' then 0 else 1 end as y from df_sql\")"
   ]
  },
  {
   "cell_type": "code",
   "execution_count": 53,
   "metadata": {},
   "outputs": [],
   "source": [
    "df2.createOrReplaceTempView('df_sql')"
   ]
  },
  {
   "cell_type": "code",
   "execution_count": 54,
   "metadata": {},
   "outputs": [
    {
     "name": "stdout",
     "output_type": "stream",
     "text": [
      "+---+--------+\n",
      "|  y|count(1)|\n",
      "+---+--------+\n",
      "|  1|     483|\n",
      "|  0|    2850|\n",
      "+---+--------+\n",
      "\n"
     ]
    }
   ],
   "source": [
    "spark.sql(\"select y,count(*) from df_sql group by y\").show()"
   ]
  },
  {
   "cell_type": "code",
   "execution_count": 55,
   "metadata": {},
   "outputs": [],
   "source": [
    "continuous_features = [ 'number_vmail_messages',\n",
    " 'total_day_minutes',\n",
    " 'total_day_calls',\n",
    " 'total_day_charge',\n",
    " 'total_eve_minutes',\n",
    " 'total_eve_calls',\n",
    " 'total_eve_charge',\n",
    " 'total_night_minutes',\n",
    " 'total_night_calls',\n",
    " 'total_night_charge',\n",
    " 'total_intl_minutes',\n",
    " 'total_intl_calls',\n",
    " 'total_intl_charge',\n",
    " 'customer_service_calls'\n",
    " 'y']"
   ]
  },
  {
   "cell_type": "code",
   "execution_count": 56,
   "metadata": {},
   "outputs": [],
   "source": [
    "categorical_features =['state',\n",
    " 'account_length',\n",
    " 'area_code',\n",
    " 'international_plan',\n",
    " 'voice_mail_plan',\n",
    "]"
   ]
  },
  {
   "cell_type": "code",
   "execution_count": 57,
   "metadata": {},
   "outputs": [],
   "source": [
    "#Encoding all categorical features\n",
    "from pyspark.ml.feature import OneHotEncoder, StringIndexer, VectorAssembler, PolynomialExpansion, VectorIndexer"
   ]
  },
  {
   "cell_type": "code",
   "execution_count": 58,
   "metadata": {},
   "outputs": [],
   "source": [
    "# create object of StringIndexer class and specify input and output column\n",
    "SI_state = StringIndexer(inputCol='state',outputCol='state_Index')\n",
    "SI_account_length = StringIndexer(inputCol='account_length',outputCol='account_length_Index')\n",
    "SI_area_code = StringIndexer(inputCol='area_code',outputCol='area_code_Index')\n",
    "SI_international_plan = StringIndexer(inputCol='international_plan',outputCol='international_plan_Index')\n",
    "SI_voice_mail_plan = StringIndexer(inputCol='voice_mail_plan',outputCol='voice_mail_plan_Index')"
   ]
  },
  {
   "cell_type": "code",
   "execution_count": 59,
   "metadata": {},
   "outputs": [
    {
     "name": "stdout",
     "output_type": "stream",
     "text": [
      "+-----+-----------+--------------+--------------------+---------+---------------+------------------+------------------------+---------------+---------------------+\n",
      "|state|state_Index|account_length|account_length_Index|area_code|area_code_Index|international_plan|international_plan_Index|voice_mail_plan|voice_mail_plan_Index|\n",
      "+-----+-----------+--------------+--------------------+---------+---------------+------------------+------------------------+---------------+---------------------+\n",
      "|   KS|       17.0|           128|                67.0|      415|            0.0|                no|                     0.0|            yes|                  1.0|\n",
      "|   OH|        5.0|           107|                 9.0|      415|            0.0|                no|                     0.0|            yes|                  1.0|\n",
      "|   NJ|       18.0|           137|                55.0|      415|            0.0|                no|                     0.0|             no|                  0.0|\n",
      "|   OH|        5.0|            84|                45.0|      408|            2.0|               yes|                     1.0|             no|                  0.0|\n",
      "|   OK|       34.0|            75|                27.0|      415|            0.0|               yes|                     1.0|             no|                  0.0|\n",
      "|   AL|        3.0|           118|                63.0|      510|            1.0|               yes|                     1.0|             no|                  0.0|\n",
      "|   MA|       24.0|           121|                31.0|      510|            1.0|                no|                     0.0|            yes|                  1.0|\n",
      "|   MO|       28.0|           147|                80.0|      415|            0.0|               yes|                     1.0|             no|                  0.0|\n",
      "|   LA|       47.0|           117|                25.0|      408|            2.0|                no|                     0.0|             no|                  0.0|\n",
      "|   WV|        0.0|           141|                69.0|      415|            0.0|               yes|                     1.0|            yes|                  1.0|\n",
      "+-----+-----------+--------------+--------------------+---------+---------------+------------------+------------------------+---------------+---------------------+\n",
      "only showing top 10 rows\n",
      "\n"
     ]
    }
   ],
   "source": [
    "\n",
    "# transform the data\n",
    "df2 = SI_state.fit(df2).transform(df2)\n",
    "df2 = SI_account_length.fit(df2).transform(df2)\n",
    "df2 = SI_area_code.fit(df2).transform(df2)\n",
    "df2 = SI_international_plan.fit(df2).transform(df2)\n",
    "df2 = SI_voice_mail_plan.fit(df2).transform(df2)\n",
    "\n",
    "\n",
    "# view the transformed data\n",
    "df2.select('state', 'state_Index', 'account_length', 'account_length_Index', 'area_code', 'area_code_Index','international_plan','international_plan_Index','voice_mail_plan','voice_mail_plan_Index').show(10)"
   ]
  },
  {
   "cell_type": "code",
   "execution_count": 66,
   "metadata": {},
   "outputs": [
    {
     "data": {
      "text/plain": [
       "['state',\n",
       " 'account_length',\n",
       " 'area_code',\n",
       " 'phone_number',\n",
       " 'international_plan',\n",
       " 'voice_mail_plan',\n",
       " 'number_vmail_messages',\n",
       " 'total_day_minutes',\n",
       " 'total_day_calls',\n",
       " 'total_day_charge',\n",
       " 'total_eve_minutes',\n",
       " 'total_eve_calls',\n",
       " 'total_eve_charge',\n",
       " 'total_night_minutes',\n",
       " 'total_night_calls',\n",
       " 'total_night_charge',\n",
       " 'total_intl_minutes',\n",
       " 'total_intl_calls',\n",
       " 'total_intl_charge',\n",
       " 'customer_service_calls',\n",
       " 'churn',\n",
       " 'y',\n",
       " 'state_Index',\n",
       " 'account_length_Index',\n",
       " 'area_code_Index',\n",
       " 'international_plan_Index',\n",
       " 'voice_mail_plan_Index']"
      ]
     },
     "execution_count": 66,
     "metadata": {},
     "output_type": "execute_result"
    }
   ],
   "source": [
    "df2.columns"
   ]
  },
  {
   "cell_type": "code",
   "execution_count": 70,
   "metadata": {},
   "outputs": [],
   "source": [
    "assesmble=VectorAssembler(inputCols=[\n",
    " 'account_length',\n",
    " 'number_vmail_messages',\n",
    " 'total_day_minutes',\n",
    " 'total_day_calls',\n",
    " 'total_day_charge',\n",
    " 'total_eve_minutes',\n",
    " 'total_eve_calls',\n",
    " 'total_eve_charge',\n",
    " 'total_night_minutes',\n",
    " 'total_night_calls',\n",
    " 'total_night_charge',\n",
    " 'total_intl_minutes',\n",
    " 'total_intl_calls',\n",
    " 'total_intl_charge',\n",
    " 'customer_service_calls',\n",
    " 'state_Index',\n",
    " 'account_length_Index',\n",
    " 'area_code_Index',\n",
    " 'international_plan_Index',\n",
    " 'voice_mail_plan_Index'],outputCol='features')\n"
   ]
  },
  {
   "cell_type": "code",
   "execution_count": null,
   "metadata": {},
   "outputs": [],
   "source": [
    "\n"
   ]
  },
  {
   "cell_type": "code",
   "execution_count": 67,
   "metadata": {},
   "outputs": [],
   "source": [
    "#the transform method to  transform our data \n",
    "df3=assesmble.transform(df2)"
   ]
  },
  {
   "cell_type": "code",
   "execution_count": 71,
   "metadata": {},
   "outputs": [
    {
     "name": "stdout",
     "output_type": "stream",
     "text": [
      "+-----+--------------+---------+------------+------------------+---------------+---------------------+-----------------+---------------+----------------+-----------------+---------------+----------------+-------------------+-----------------+------------------+------------------+----------------+-----------------+----------------------+-----+---+-----------+--------------------+---------------+------------------------+---------------------+--------------------+\n",
      "|state|account_length|area_code|phone_number|international_plan|voice_mail_plan|number_vmail_messages|total_day_minutes|total_day_calls|total_day_charge|total_eve_minutes|total_eve_calls|total_eve_charge|total_night_minutes|total_night_calls|total_night_charge|total_intl_minutes|total_intl_calls|total_intl_charge|customer_service_calls|churn|  y|state_Index|account_length_Index|area_code_Index|international_plan_Index|voice_mail_plan_Index|            features|\n",
      "+-----+--------------+---------+------------+------------------+---------------+---------------------+-----------------+---------------+----------------+-----------------+---------------+----------------+-------------------+-----------------+------------------+------------------+----------------+-----------------+----------------------+-----+---+-----------+--------------------+---------------+------------------------+---------------------+--------------------+\n",
      "|   KS|           128|      415|    382-4657|                no|            yes|                   25|            265.1|            110|           45.07|            197.4|             99|           16.78|              244.7|               91|             11.01|              10.0|               3|              2.7|                     1|false|  0|       17.0|                67.0|            0.0|                     0.0|                  1.0|[128.0,25.0,265.1...|\n",
      "|   OH|           107|      415|    371-7191|                no|            yes|                   26|            161.6|            123|           27.47|            195.5|            103|           16.62|              254.4|              103|             11.45|              13.7|               3|              3.7|                     1|false|  0|        5.0|                 9.0|            0.0|                     0.0|                  1.0|[107.0,26.0,161.6...|\n",
      "|   NJ|           137|      415|    358-1921|                no|             no|                    0|            243.4|            114|           41.38|            121.2|            110|            10.3|              162.6|              104|              7.32|              12.2|               5|             3.29|                     0|false|  0|       18.0|                55.0|            0.0|                     0.0|                  0.0|[137.0,0.0,243.4,...|\n",
      "|   OH|            84|      408|    375-9999|               yes|             no|                    0|            299.4|             71|            50.9|             61.9|             88|            5.26|              196.9|               89|              8.86|               6.6|               7|             1.78|                     2|false|  0|        5.0|                45.0|            2.0|                     1.0|                  0.0|[84.0,0.0,299.4,7...|\n",
      "|   OK|            75|      415|    330-6626|               yes|             no|                    0|            166.7|            113|           28.34|            148.3|            122|           12.61|              186.9|              121|              8.41|              10.1|               3|             2.73|                     3|false|  0|       34.0|                27.0|            0.0|                     1.0|                  0.0|[75.0,0.0,166.7,1...|\n",
      "|   AL|           118|      510|    391-8027|               yes|             no|                    0|            223.4|             98|           37.98|            220.6|            101|           18.75|              203.9|              118|              9.18|               6.3|               6|              1.7|                     0|false|  0|        3.0|                63.0|            1.0|                     1.0|                  0.0|[118.0,0.0,223.4,...|\n",
      "|   MA|           121|      510|    355-9993|                no|            yes|                   24|            218.2|             88|           37.09|            348.5|            108|           29.62|              212.6|              118|              9.57|               7.5|               7|             2.03|                     3|false|  0|       24.0|                31.0|            1.0|                     0.0|                  1.0|[121.0,24.0,218.2...|\n",
      "|   MO|           147|      415|    329-9001|               yes|             no|                    0|            157.0|             79|           26.69|            103.1|             94|            8.76|              211.8|               96|              9.53|               7.1|               6|             1.92|                     0|false|  0|       28.0|                80.0|            0.0|                     1.0|                  0.0|[147.0,0.0,157.0,...|\n",
      "|   LA|           117|      408|    335-4719|                no|             no|                    0|            184.5|             97|           31.37|            351.6|             80|           29.89|              215.8|               90|              9.71|               8.7|               4|             2.35|                     1|false|  0|       47.0|                25.0|            2.0|                     0.0|                  0.0|[117.0,0.0,184.5,...|\n",
      "|   WV|           141|      415|    330-8173|               yes|            yes|                   37|            258.6|             84|           43.96|            222.0|            111|           18.87|              326.4|               97|             14.69|              11.2|               5|             3.02|                     0|false|  0|        0.0|                69.0|            0.0|                     1.0|                  1.0|[141.0,37.0,258.6...|\n",
      "|   IN|            65|      415|    329-6603|                no|             no|                    0|            129.1|            137|           21.95|            228.5|             83|           19.42|              208.8|              111|               9.4|              12.7|               6|             3.43|                     4| true|  1|       15.0|                72.0|            0.0|                     0.0|                  0.0|[65.0,0.0,129.1,1...|\n",
      "|   RI|            74|      415|    344-9403|                no|             no|                    0|            187.7|            127|           31.91|            163.4|            148|           13.89|              196.0|               94|              8.82|               9.1|               5|             2.46|                     0|false|  0|       25.0|                28.0|            0.0|                     0.0|                  0.0|[74.0,0.0,187.7,1...|\n",
      "|   IA|           168|      408|    363-1107|                no|             no|                    0|            128.8|             96|            21.9|            104.9|             71|            8.92|              141.1|              128|              6.35|              11.2|               2|             3.02|                     1|false|  0|       49.0|               165.0|            2.0|                     0.0|                  0.0|[168.0,0.0,128.8,...|\n",
      "|   MT|            95|      510|    394-8006|                no|             no|                    0|            156.6|             88|           26.62|            247.6|             75|           21.05|              192.3|              115|              8.65|              12.3|               5|             3.32|                     3|false|  0|       19.0|                 5.0|            1.0|                     0.0|                  0.0|[95.0,0.0,156.6,8...|\n",
      "|   IA|            62|      415|    366-9238|                no|             no|                    0|            120.7|             70|           20.52|            307.2|             76|           26.11|              203.0|               99|              9.14|              13.1|               6|             3.54|                     4|false|  0|       49.0|                75.0|            0.0|                     0.0|                  0.0|[62.0,0.0,120.7,7...|\n",
      "|   NY|           161|      415|    351-7269|                no|             no|                    0|            332.9|             67|           56.59|            317.8|             97|           27.01|              160.6|              128|              7.23|               5.4|               9|             1.46|                     4| true|  1|        2.0|                84.0|            0.0|                     0.0|                  0.0|[161.0,0.0,332.9,...|\n",
      "|   ID|            85|      408|    350-8884|                no|            yes|                   27|            196.4|            139|           33.39|            280.9|             90|           23.88|               89.3|               75|              4.02|              13.8|               4|             3.73|                     1|false|  0|       10.0|                36.0|            2.0|                     0.0|                  1.0|[85.0,27.0,196.4,...|\n",
      "|   VT|            93|      510|    386-2923|                no|             no|                    0|            190.7|            114|           32.42|            218.2|            111|           18.55|              129.6|              121|              5.83|               8.1|               3|             2.19|                     3|false|  0|       11.0|                 2.0|            1.0|                     0.0|                  0.0|[93.0,0.0,190.7,1...|\n",
      "|   VA|            76|      510|    356-2992|                no|            yes|                   33|            189.7|             66|           32.25|            212.8|             65|           18.09|              165.7|              108|              7.46|              10.0|               5|              2.7|                     1|false|  0|        8.0|                61.0|            1.0|                     0.0|                  1.0|[76.0,33.0,189.7,...|\n",
      "|   TX|            73|      415|    373-2782|                no|             no|                    0|            224.4|             90|           38.15|            159.5|             88|           13.56|              192.8|               74|              8.68|              13.0|               2|             3.51|                     1|false|  0|       13.0|                24.0|            0.0|                     0.0|                  0.0|[73.0,0.0,224.4,9...|\n",
      "+-----+--------------+---------+------------+------------------+---------------+---------------------+-----------------+---------------+----------------+-----------------+---------------+----------------+-------------------+-----------------+------------------+------------------+----------------+-----------------+----------------------+-----+---+-----------+--------------------+---------------+------------------------+---------------------+--------------------+\n",
      "only showing top 20 rows\n",
      "\n"
     ]
    }
   ],
   "source": [
    "df3.show()"
   ]
  },
  {
   "cell_type": "code",
   "execution_count": 73,
   "metadata": {},
   "outputs": [],
   "source": [
    "df4=df3.select('features','y')"
   ]
  },
  {
   "cell_type": "code",
   "execution_count": 74,
   "metadata": {},
   "outputs": [
    {
     "name": "stdout",
     "output_type": "stream",
     "text": [
      "+--------------------+---+\n",
      "|            features|  y|\n",
      "+--------------------+---+\n",
      "|[128.0,25.0,265.1...|  0|\n",
      "|[107.0,26.0,161.6...|  0|\n",
      "|[137.0,0.0,243.4,...|  0|\n",
      "|[84.0,0.0,299.4,7...|  0|\n",
      "|[75.0,0.0,166.7,1...|  0|\n",
      "|[118.0,0.0,223.4,...|  0|\n",
      "|[121.0,24.0,218.2...|  0|\n",
      "|[147.0,0.0,157.0,...|  0|\n",
      "|[117.0,0.0,184.5,...|  0|\n",
      "|[141.0,37.0,258.6...|  0|\n",
      "|[65.0,0.0,129.1,1...|  1|\n",
      "|[74.0,0.0,187.7,1...|  0|\n",
      "|[168.0,0.0,128.8,...|  0|\n",
      "|[95.0,0.0,156.6,8...|  0|\n",
      "|[62.0,0.0,120.7,7...|  0|\n",
      "|[161.0,0.0,332.9,...|  1|\n",
      "|[85.0,27.0,196.4,...|  0|\n",
      "|[93.0,0.0,190.7,1...|  0|\n",
      "|[76.0,33.0,189.7,...|  0|\n",
      "|[73.0,0.0,224.4,9...|  0|\n",
      "+--------------------+---+\n",
      "only showing top 20 rows\n",
      "\n"
     ]
    }
   ],
   "source": [
    "df4.show()"
   ]
  },
  {
   "cell_type": "code",
   "execution_count": 76,
   "metadata": {},
   "outputs": [],
   "source": [
    "(train, test) = df4.randomSplit([.7,.3])"
   ]
  },
  {
   "cell_type": "code",
   "execution_count": 77,
   "metadata": {},
   "outputs": [
    {
     "name": "stdout",
     "output_type": "stream",
     "text": [
      "+--------------------+---+\n",
      "|            features|  y|\n",
      "+--------------------+---+\n",
      "|(20,[0,2,3,4,5,6,...|  0|\n",
      "|[1.0,0.0,123.8,11...|  0|\n",
      "|[1.0,0.0,144.8,10...|  0|\n",
      "|[1.0,0.0,175.2,74...|  0|\n",
      "|[1.0,0.0,182.1,10...|  1|\n",
      "|[1.0,26.0,146.6,6...|  0|\n",
      "|[1.0,26.0,208.0,1...|  0|\n",
      "|[1.0,30.0,183.1,9...|  0|\n",
      "|[3.0,0.0,139.0,99...|  0|\n",
      "|[3.0,0.0,161.0,96...|  0|\n",
      "|[3.0,0.0,185.0,12...|  0|\n",
      "|[3.0,27.0,67.4,11...|  0|\n",
      "|[3.0,36.0,118.1,1...|  0|\n",
      "|[4.0,0.0,145.3,89...|  0|\n",
      "|[6.0,0.0,183.6,11...|  0|\n",
      "|[6.0,0.0,226.5,93...|  0|\n",
      "|[7.0,0.0,206.7,87...|  0|\n",
      "|[7.0,30.0,221.4,1...|  0|\n",
      "|[9.0,16.0,88.5,87...|  0|\n",
      "|[9.0,31.0,193.8,1...|  0|\n",
      "+--------------------+---+\n",
      "only showing top 20 rows\n",
      "\n"
     ]
    }
   ],
   "source": [
    "train.show()"
   ]
  },
  {
   "cell_type": "code",
   "execution_count": 78,
   "metadata": {},
   "outputs": [
    {
     "name": "stdout",
     "output_type": "stream",
     "text": [
      "+--------------------+---+\n",
      "|            features|  y|\n",
      "+--------------------+---+\n",
      "|[1.0,0.0,196.1,10...|  0|\n",
      "|[2.0,0.0,132.1,42...|  1|\n",
      "|[5.0,0.0,199.2,10...|  0|\n",
      "|[8.0,36.0,242.9,6...|  0|\n",
      "|[10.0,0.0,183.0,1...|  0|\n",
      "|[10.0,0.0,222.2,1...|  0|\n",
      "|[12.0,0.0,204.6,9...|  0|\n",
      "|[12.0,0.0,249.6,1...|  1|\n",
      "|[13.0,25.0,176.6,...|  0|\n",
      "|[16.0,0.0,144.8,8...|  0|\n",
      "|[16.0,0.0,161.9,1...|  0|\n",
      "|[16.0,0.0,174.7,8...|  0|\n",
      "|[16.0,0.0,209.5,8...|  0|\n",
      "|[19.0,0.0,186.1,9...|  0|\n",
      "|[19.0,0.0,201.5,1...|  0|\n",
      "|[20.0,35.0,171.5,...|  0|\n",
      "|[21.0,0.0,92.6,95...|  1|\n",
      "|[21.0,0.0,146.0,7...|  0|\n",
      "|[21.0,19.0,132.7,...|  0|\n",
      "|[22.0,0.0,160.4,1...|  0|\n",
      "+--------------------+---+\n",
      "only showing top 20 rows\n",
      "\n"
     ]
    }
   ],
   "source": [
    "test.show()"
   ]
  },
  {
   "cell_type": "code",
   "execution_count": 79,
   "metadata": {},
   "outputs": [],
   "source": [
    "from pyspark.ml.classification import RandomForestClassifier\n",
    "from pyspark.ml.classification import LogisticRegression\n",
    "\n",
    "from pyspark.ml.evaluation import MulticlassClassificationEvaluator, BinaryClassificationEvaluator\n",
    "\n",
    "from sklearn.metrics import confusion_matrix\n",
    "from sklearn.metrics import precision_score\n",
    "from sklearn.metrics import recall_score"
   ]
  },
  {
   "cell_type": "code",
   "execution_count": 81,
   "metadata": {},
   "outputs": [],
   "source": [
    "model=LogisticRegression(labelCol='y')"
   ]
  },
  {
   "cell_type": "code",
   "execution_count": 82,
   "metadata": {},
   "outputs": [],
   "source": [
    "model=model.fit(train)"
   ]
  },
  {
   "cell_type": "code",
   "execution_count": 83,
   "metadata": {},
   "outputs": [],
   "source": [
    "summary=model.summary"
   ]
  },
  {
   "cell_type": "code",
   "execution_count": 84,
   "metadata": {},
   "outputs": [
    {
     "name": "stdout",
     "output_type": "stream",
     "text": [
      "+-------+------------------+--------------------+\n",
      "|summary|                 y|          prediction|\n",
      "+-------+------------------+--------------------+\n",
      "|  count|              2315|                2315|\n",
      "|   mean| 0.150755939524838|0.058315334773218146|\n",
      "| stddev|0.3578881306322746| 0.23438939393368008|\n",
      "|    min|               0.0|                 0.0|\n",
      "|    max|               1.0|                 1.0|\n",
      "+-------+------------------+--------------------+\n",
      "\n"
     ]
    }
   ],
   "source": [
    "summary.predictions.describe().show()"
   ]
  },
  {
   "cell_type": "code",
   "execution_count": 85,
   "metadata": {},
   "outputs": [],
   "source": [
    "pred=model.evaluate(test)"
   ]
  },
  {
   "cell_type": "code",
   "execution_count": 86,
   "metadata": {},
   "outputs": [
    {
     "name": "stdout",
     "output_type": "stream",
     "text": [
      "+--------------------+---+--------------------+--------------------+----------+\n",
      "|            features|  y|       rawPrediction|         probability|prediction|\n",
      "+--------------------+---+--------------------+--------------------+----------+\n",
      "|[1.0,0.0,196.1,10...|  0|[1.71001826844561...|[0.84683865372118...|       0.0|\n",
      "|[2.0,0.0,132.1,42...|  1|[1.02153899634942...|[0.73527226887271...|       0.0|\n",
      "|[5.0,0.0,199.2,10...|  0|[1.00378991051957...|[0.73180306743056...|       0.0|\n",
      "|[8.0,36.0,242.9,6...|  0|[4.23772349591563...|[0.98576512947834...|       0.0|\n",
      "|[10.0,0.0,183.0,1...|  0|[2.24841064319680...|[0.90451335225197...|       0.0|\n",
      "|[10.0,0.0,222.2,1...|  0|[2.15897297475679...|[0.89650429547594...|       0.0|\n",
      "|[12.0,0.0,204.6,9...|  0|[2.14924338408304...|[0.89559805281508...|       0.0|\n",
      "|[12.0,0.0,249.6,1...|  1|[0.59739736899082...|[0.64506063979244...|       0.0|\n",
      "|[13.0,25.0,176.6,...|  0|[3.72988155373243...|[0.97656662192475...|       0.0|\n",
      "|[16.0,0.0,144.8,8...|  0|[2.96270968087820...|[0.95086075739796...|       0.0|\n",
      "|[16.0,0.0,161.9,1...|  0|[2.64120509861799...|[0.93346684798011...|       0.0|\n",
      "|[16.0,0.0,174.7,8...|  0|[0.64642893627746...|[0.65620528101974...|       0.0|\n",
      "|[16.0,0.0,209.5,8...|  0|[2.87463115653090...|[0.94657802156953...|       0.0|\n",
      "|[19.0,0.0,186.1,9...|  0|[1.1698309790943,...|[0.76311446304481...|       0.0|\n",
      "|[19.0,0.0,201.5,1...|  0|[2.57473627590762...|[0.92921784443509...|       0.0|\n",
      "|[20.0,35.0,171.5,...|  0|[4.63205639672032...|[0.99035913110096...|       0.0|\n",
      "|[21.0,0.0,92.6,95...|  1|[1.54819086141144...|[0.82465228240719...|       0.0|\n",
      "|[21.0,0.0,146.0,7...|  0|[4.74761721998347...|[0.99140222788919...|       0.0|\n",
      "|[21.0,19.0,132.7,...|  0|[3.66492503445393...|[0.97503321107745...|       0.0|\n",
      "|[22.0,0.0,160.4,1...|  0|[2.37017369285824...|[0.91452443902485...|       0.0|\n",
      "+--------------------+---+--------------------+--------------------+----------+\n",
      "only showing top 20 rows\n",
      "\n"
     ]
    }
   ],
   "source": [
    "pred.predictions.show()"
   ]
  },
  {
   "cell_type": "code",
   "execution_count": 91,
   "metadata": {},
   "outputs": [],
   "source": [
    "evaluator=BinaryClassificationEvaluator(rawPredictionCol='prediction',labelCol='y')"
   ]
  },
  {
   "cell_type": "code",
   "execution_count": 99,
   "metadata": {},
   "outputs": [],
   "source": [
    "#evaluator.evaluate(predictions.predictions)"
   ]
  },
  {
   "cell_type": "code",
   "execution_count": 93,
   "metadata": {},
   "outputs": [],
   "source": [
    "pred1=model.transform(test)"
   ]
  },
  {
   "cell_type": "code",
   "execution_count": 96,
   "metadata": {},
   "outputs": [],
   "source": [
    " eval_accuracy = (MulticlassClassificationEvaluator(labelCol=\"y\", predictionCol=\"prediction\", metricName=\"accuracy\"))"
   ]
  },
  {
   "cell_type": "code",
   "execution_count": 97,
   "metadata": {},
   "outputs": [],
   "source": [
    " accuracy = eval_accuracy.evaluate(pred1)"
   ]
  },
  {
   "cell_type": "code",
   "execution_count": 98,
   "metadata": {},
   "outputs": [
    {
     "data": {
      "text/plain": [
       "0.8713163064833006"
      ]
     },
     "execution_count": 98,
     "metadata": {},
     "output_type": "execute_result"
    }
   ],
   "source": [
    "accuracy"
   ]
  },
  {
   "cell_type": "code",
   "execution_count": 100,
   "metadata": {},
   "outputs": [],
   "source": [
    "Error = 1-accuracy"
   ]
  },
  {
   "cell_type": "code",
   "execution_count": 101,
   "metadata": {},
   "outputs": [
    {
     "data": {
      "text/plain": [
       "0.1286836935166994"
      ]
     },
     "execution_count": 101,
     "metadata": {},
     "output_type": "execute_result"
    }
   ],
   "source": [
    "Error"
   ]
  },
  {
   "cell_type": "code",
   "execution_count": 104,
   "metadata": {},
   "outputs": [],
   "source": [
    "eval_precision = (MulticlassClassificationEvaluator(labelCol=\"y\", predictionCol=\"prediction\", metricName=\"weightedPrecision\"))"
   ]
  },
  {
   "cell_type": "code",
   "execution_count": 105,
   "metadata": {},
   "outputs": [],
   "source": [
    "precision =  eval_precision.evaluate(pred1)"
   ]
  },
  {
   "cell_type": "code",
   "execution_count": 106,
   "metadata": {},
   "outputs": [
    {
     "data": {
      "text/plain": [
       "0.8419697946244321"
      ]
     },
     "execution_count": 106,
     "metadata": {},
     "output_type": "execute_result"
    }
   ],
   "source": [
    "precision"
   ]
  },
  {
   "cell_type": "code",
   "execution_count": 109,
   "metadata": {},
   "outputs": [],
   "source": [
    "eval_recall=(MulticlassClassificationEvaluator(labelCol=\"y\", predictionCol=\"prediction\", metricName=\"weightedRecall\"))\n"
   ]
  },
  {
   "cell_type": "code",
   "execution_count": 110,
   "metadata": {},
   "outputs": [],
   "source": [
    "recall =eval_recall.evaluate(pred1)"
   ]
  },
  {
   "cell_type": "code",
   "execution_count": 111,
   "metadata": {},
   "outputs": [
    {
     "data": {
      "text/plain": [
       "0.8713163064833006"
      ]
     },
     "execution_count": 111,
     "metadata": {},
     "output_type": "execute_result"
    }
   ],
   "source": [
    "recall"
   ]
  },
  {
   "cell_type": "code",
   "execution_count": 114,
   "metadata": {},
   "outputs": [],
   "source": [
    "eval_f1 =(MulticlassClassificationEvaluator(labelCol=\"y\", predictionCol=\"prediction\", metricName=\"f1\"))"
   ]
  },
  {
   "cell_type": "code",
   "execution_count": 115,
   "metadata": {},
   "outputs": [],
   "source": [
    "f1 =  eval_f1.evaluate(pred1)"
   ]
  },
  {
   "cell_type": "code",
   "execution_count": 116,
   "metadata": {},
   "outputs": [
    {
     "data": {
      "text/plain": [
       "0.845334552614534"
      ]
     },
     "execution_count": 116,
     "metadata": {},
     "output_type": "execute_result"
    }
   ],
   "source": [
    "f1"
   ]
  },
  {
   "cell_type": "code",
   "execution_count": null,
   "metadata": {},
   "outputs": [],
   "source": []
  },
  {
   "cell_type": "code",
   "execution_count": null,
   "metadata": {},
   "outputs": [],
   "source": []
  }
 ],
 "metadata": {
  "kernelspec": {
   "display_name": "Python 3",
   "language": "python",
   "name": "python3"
  },
  "language_info": {
   "codemirror_mode": {
    "name": "ipython",
    "version": 3
   },
   "file_extension": ".py",
   "mimetype": "text/x-python",
   "name": "python",
   "nbconvert_exporter": "python",
   "pygments_lexer": "ipython3",
   "version": "3.7.6"
  }
 },
 "nbformat": 4,
 "nbformat_minor": 4
}
